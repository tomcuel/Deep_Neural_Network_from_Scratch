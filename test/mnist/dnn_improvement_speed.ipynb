{
 "cells": [
  {
   "cell_type": "code",
   "execution_count": null,
   "id": "f41f585f",
   "metadata": {},
   "outputs": [
    {
     "name": "stdout",
     "output_type": "stream",
     "text": [
      "Loading MNIST dataset...\n",
      "Preprocessing data...\n",
      "(48999, 784) (10500, 784) (10501, 784)\n"
     ]
    },
    {
     "data": {
      "image/png": "[encoded data removed]",
      "text/plain": [
       "<Figure size 750x400 with 10 Axes>"
      ]
     },
     "metadata": {},
     "output_type": "display_data"
    },
    {
     "name": "stderr",
     "output_type": "stream",
     "text": [
      "[I 2025-10-25 23:33:39,595] A new study created in memory with name: no-name-996a2631-58ae-424f-942b-cc57bb056c9b\n",
      "/var/folders/8j/y46wyjvx641clg_t_cq0ggfc0000gn/T/ipykernel_92190/4155332778.py:70: RuntimeWarning: overflow encountered in exp\n",
      "  return 1.0 / (1.0 + np.exp(-x))\n",
      "/var/folders/8j/y46wyjvx641clg_t_cq0ggfc0000gn/T/ipykernel_92190/4155332778.py:68: RuntimeWarning: overflow encountered in exp\n",
      "  s = 1.0 / (1.0 + np.exp(-x))\n"
     ]
    },
    {
     "name": "stdout",
     "output_type": "stream",
     "text": [
      "Epoch    1/40 | Train Loss: 1.6749 | Val Loss: 0.7985\n",
      "Epoch    6/40 | Train Loss: 0.3562 | Val Loss: 0.2555\n",
      "Epoch   11/40 | Train Loss: 0.3314 | Val Loss: 0.2472\n",
      "Epoch   16/40 | Train Loss: 0.3258 | Val Loss: 0.2523\n"
     ]
    },
    {
     "name": "stderr",
     "output_type": "stream",
     "text": [
      "[I 2025-10-25 23:34:11,592] Trial 0 finished with value: 0.2155817842427901 and parameters: {'n_layers': 5, 'n_units_l0': 203, 'n_units_l1': 217, 'n_units_l2': 246, 'n_units_l3': 99, 'n_units_l4': 247, 'lr': 0.026085758460852666, 'batch_size': 128, 'dropout_l0': 0.32033650078802944, 'dropout_l1': 0.47559379869973994, 'dropout_l2': 0.0023639672063314743, 'dropout_l3': 0.06699527548033768, 'dropout_l4': 0.05218430251692335, 'weight_decay': 0.003947451635152316, 'optimizer': 'adam', 'stopping_patience': 6, 'activation_l0': 'leaky_relu', 'activation_l1': 'relu', 'activation_l2': 'leaky_relu', 'activation_l3': 'leaky_relu', 'activation_l4': 'sigmoid'}. Best is trial 0 with value: 0.2155817842427901.\n"
     ]
    },
    {
     "name": "stdout",
     "output_type": "stream",
     "text": [
      "Early stopping triggered.\n",
      "Epoch    1/40 | Train Loss: 2.3732 | Val Loss: 1.1330\n",
      "Epoch    6/40 | Train Loss: 0.7954 | Val Loss: 0.5307\n",
      "Epoch   11/40 | Train Loss: 0.7335 | Val Loss: 0.5495\n",
      "Epoch   16/40 | Train Loss: 0.7326 | Val Loss: 0.5069\n",
      "Epoch   21/40 | Train Loss: 0.7701 | Val Loss: 0.4612\n"
     ]
    },
    {
     "name": "stderr",
     "output_type": "stream",
     "text": [
      "[I 2025-10-25 23:35:33,210] Trial 1 finished with value: 0.41823529285091543 and parameters: {'n_layers': 2, 'n_units_l0': 184, 'n_units_l1': 230, 'lr': 0.05874243278937118, 'batch_size': 16, 'dropout_l0': 0.2311519158680878, 'dropout_l1': 0.24200377048718363, 'weight_decay': 9.630521562206306e-05, 'optimizer': 'adam', 'stopping_patience': 8, 'activation_l0': 'leaky_relu', 'activation_l1': 'tanh'}. Best is trial 0 with value: 0.2155817842427901.\n"
     ]
    },
    {
     "name": "stdout",
     "output_type": "stream",
     "text": [
      "Early stopping triggered.\n",
      "Epoch    1/40 | Train Loss: 1.2441 | Val Loss: 0.6671\n",
      "Epoch    6/40 | Train Loss: 0.3177 | Val Loss: 0.2814\n",
      "Epoch   11/40 | Train Loss: 0.2443 | Val Loss: 0.2275\n",
      "Epoch   16/40 | Train Loss: 0.2065 | Val Loss: 0.2002\n",
      "Epoch   21/40 | Train Loss: 0.1799 | Val Loss: 0.1827\n",
      "Epoch   26/40 | Train Loss: 0.1623 | Val Loss: 0.1698\n",
      "Epoch   31/40 | Train Loss: 0.1450 | Val Loss: 0.1605\n",
      "Epoch   36/40 | Train Loss: 0.1334 | Val Loss: 0.1528\n"
     ]
    },
    {
     "name": "stderr",
     "output_type": "stream",
     "text": [
      "[I 2025-10-25 23:36:07,274] Trial 2 finished with value: 0.1476904645981253 and parameters: {'n_layers': 2, 'n_units_l0': 176, 'n_units_l1': 86, 'lr': 0.001990024783439099, 'batch_size': 32, 'dropout_l0': 0.12344111061764967, 'dropout_l1': 0.22439994068883595, 'weight_decay': 2.4384190861017746e-06, 'optimizer': 'sgd', 'stopping_patience': 4, 'activation_l0': 'leaky_relu', 'activation_l1': 'tanh'}. Best is trial 2 with value: 0.1476904645981253.\n"
     ]
    },
    {
     "name": "stdout",
     "output_type": "stream",
     "text": [
      "Epoch    1/40 | Train Loss: 2.5287 | Val Loss: 2.3054\n",
      "Epoch    6/40 | Train Loss: 2.3621 | Val Loss: 2.2849\n",
      "Epoch   11/40 | Train Loss: 2.3265 | Val Loss: 2.2717\n",
      "Epoch   16/40 | Train Loss: 2.3075 | Val Loss: 2.2562\n",
      "Epoch   21/40 | Train Loss: 2.2802 | Val Loss: 2.2202\n",
      "Epoch   26/40 | Train Loss: 2.2306 | Val Loss: 2.1260\n",
      "Epoch   31/40 | Train Loss: 2.1299 | Val Loss: 1.9589\n",
      "Epoch   36/40 | Train Loss: 2.0070 | Val Loss: 1.8240\n"
     ]
    },
    {
     "name": "stderr",
     "output_type": "stream",
     "text": [
      "[I 2025-10-25 23:37:03,492] Trial 3 finished with value: 1.7472876916561582 and parameters: {'n_layers': 5, 'n_units_l0': 166, 'n_units_l1': 158, 'n_units_l2': 110, 'n_units_l3': 201, 'n_units_l4': 201, 'lr': 0.0007098883106258884, 'batch_size': 64, 'dropout_l0': 0.3932636610066659, 'dropout_l1': 0.2337021468808455, 'dropout_l2': 0.38640723033125574, 'dropout_l3': 0.4723842041840774, 'dropout_l4': 0.14472201554769748, 'weight_decay': 3.161572155491006e-06, 'optimizer': 'momentum', 'stopping_patience': 8, 'activation_l0': 'sigmoid', 'activation_l1': 'relu', 'activation_l2': 'sigmoid', 'activation_l3': 'relu', 'activation_l4': 'relu'}. Best is trial 2 with value: 0.1476904645981253.\n"
     ]
    },
    {
     "name": "stdout",
     "output_type": "stream",
     "text": [
      "Epoch    1/40 | Train Loss: 2.1340 | Val Loss: 1.9271\n",
      "Epoch    6/40 | Train Loss: 0.8314 | Val Loss: 0.7338\n",
      "Epoch   11/40 | Train Loss: 0.5461 | Val Loss: 0.4909\n",
      "Epoch   16/40 | Train Loss: 0.4481 | Val Loss: 0.4086\n",
      "Epoch   21/40 | Train Loss: 0.4003 | Val Loss: 0.3675\n",
      "Epoch   26/40 | Train Loss: 0.3691 | Val Loss: 0.3425\n",
      "Epoch   31/40 | Train Loss: 0.3507 | Val Loss: 0.3253\n",
      "Epoch   36/40 | Train Loss: 0.3326 | Val Loss: 0.3124\n"
     ]
    },
    {
     "name": "stderr",
     "output_type": "stream",
     "text": [
      "[I 2025-10-25 23:37:31,914] Trial 4 finished with value: 0.3040033387628092 and parameters: {'n_layers': 2, 'n_units_l0': 147, 'n_units_l1': 151, 'lr': 0.0011891024738438297, 'batch_size': 64, 'dropout_l0': 0.02208748238046665, 'dropout_l1': 0.12926773869681513, 'weight_decay': 0.0008919977673884573, 'optimizer': 'momentum', 'stopping_patience': 7, 'activation_l0': 'sigmoid', 'activation_l1': 'relu'}. Best is trial 2 with value: 0.1476904645981253.\n"
     ]
    },
    {
     "name": "stdout",
     "output_type": "stream",
     "text": [
      "Epoch    1/40 | Train Loss: 1.4826 | Val Loss: 0.7221\n",
      "Epoch    6/40 | Train Loss: 0.4548 | Val Loss: 0.3417\n",
      "Epoch   11/40 | Train Loss: 0.4375 | Val Loss: 0.3133\n",
      "Epoch   16/40 | Train Loss: 0.4102 | Val Loss: 0.2882\n",
      "Epoch   21/40 | Train Loss: 0.4024 | Val Loss: 0.2980\n"
     ]
    },
    {
     "name": "stderr",
     "output_type": "stream",
     "text": [
      "[I 2025-10-25 23:37:56,545] Trial 5 finished with value: 0.2797403385928275 and parameters: {'n_layers': 2, 'n_units_l0': 101, 'n_units_l1': 94, 'lr': 0.04852199007688445, 'batch_size': 32, 'dropout_l0': 0.08424207678298162, 'dropout_l1': 0.11561698563657274, 'weight_decay': 0.002654963756197771, 'optimizer': 'adam', 'stopping_patience': 7, 'activation_l0': 'relu', 'activation_l1': 'relu'}. Best is trial 2 with value: 0.1476904645981253.\n"
     ]
    },
    {
     "name": "stdout",
     "output_type": "stream",
     "text": [
      "Epoch   26/40 | Train Loss: 0.4128 | Val Loss: 0.3385\n",
      "Early stopping triggered.\n",
      "Epoch    1/40 | Train Loss: 2.3560 | Val Loss: 2.1754\n",
      "Epoch    6/40 | Train Loss: 1.1883 | Val Loss: 0.7992\n",
      "Epoch   11/40 | Train Loss: 0.7540 | Val Loss: 0.4924\n",
      "Epoch   16/40 | Train Loss: 0.5983 | Val Loss: 0.3836\n",
      "Epoch   21/40 | Train Loss: 0.5157 | Val Loss: 0.3343\n",
      "Epoch   26/40 | Train Loss: 0.4652 | Val Loss: 0.3048\n",
      "Epoch   31/40 | Train Loss: 0.4274 | Val Loss: 0.2831\n",
      "Epoch   36/40 | Train Loss: 0.4064 | Val Loss: 0.2677\n"
     ]
    },
    {
     "name": "stderr",
     "output_type": "stream",
     "text": [
      "[I 2025-10-25 23:38:29,760] Trial 6 finished with value: 0.25772479476569976 and parameters: {'n_layers': 5, 'n_units_l0': 99, 'n_units_l1': 223, 'n_units_l2': 217, 'n_units_l3': 68, 'n_units_l4': 123, 'lr': 0.004581299072711664, 'batch_size': 128, 'dropout_l0': 0.40194499004687806, 'dropout_l1': 0.19689723611301618, 'dropout_l2': 0.39866504014347304, 'dropout_l3': 0.000700825667588223, 'dropout_l4': 0.3417324761808458, 'weight_decay': 0.00018860258536969925, 'optimizer': 'sgd', 'stopping_patience': 8, 'activation_l0': 'relu', 'activation_l1': 'relu', 'activation_l2': 'sigmoid', 'activation_l3': 'leaky_relu', 'activation_l4': 'tanh'}. Best is trial 2 with value: 0.1476904645981253.\n"
     ]
    },
    {
     "name": "stdout",
     "output_type": "stream",
     "text": [
      "Epoch    1/40 | Train Loss: 2.6727 | Val Loss: 2.0201\n",
      "Epoch    6/40 | Train Loss: 1.3613 | Val Loss: 0.9554\n",
      "Epoch   11/40 | Train Loss: 0.9454 | Val Loss: 0.6189\n",
      "Epoch   16/40 | Train Loss: 0.7592 | Val Loss: 0.4910\n",
      "Epoch   21/40 | Train Loss: 0.6636 | Val Loss: 0.4293\n",
      "Epoch   26/40 | Train Loss: 0.5990 | Val Loss: 0.3930\n",
      "Epoch   31/40 | Train Loss: 0.5488 | Val Loss: 0.3689\n",
      "Epoch   36/40 | Train Loss: 0.5180 | Val Loss: 0.3513\n"
     ]
    },
    {
     "name": "stderr",
     "output_type": "stream",
     "text": [
      "[I 2025-10-25 23:39:02,643] Trial 7 finished with value: 0.3394267385495969 and parameters: {'n_layers': 3, 'n_units_l0': 152, 'n_units_l1': 134, 'n_units_l2': 201, 'lr': 0.000401314964913542, 'batch_size': 64, 'dropout_l0': 0.36027164450225213, 'dropout_l1': 0.05325717415855097, 'dropout_l2': 0.4232681088374386, 'weight_decay': 0.0026710232737030045, 'optimizer': 'momentum', 'stopping_patience': 5, 'activation_l0': 'relu', 'activation_l1': 'leaky_relu', 'activation_l2': 'leaky_relu'}. Best is trial 2 with value: 0.1476904645981253.\n"
     ]
    },
    {
     "name": "stdout",
     "output_type": "stream",
     "text": [
      "Epoch    1/40 | Train Loss: 0.7100 | Val Loss: 0.3087\n",
      "Epoch    6/40 | Train Loss: 0.2393 | Val Loss: 0.1948\n",
      "Epoch   11/40 | Train Loss: 0.1930 | Val Loss: 0.1697\n",
      "Epoch   16/40 | Train Loss: 0.1678 | Val Loss: 0.1566\n",
      "Epoch   21/40 | Train Loss: 0.1537 | Val Loss: 0.1494\n",
      "Epoch   26/40 | Train Loss: 0.1446 | Val Loss: 0.1456\n",
      "Epoch   31/40 | Train Loss: 0.1387 | Val Loss: 0.1430\n",
      "Epoch   36/40 | Train Loss: 0.1318 | Val Loss: 0.1381\n"
     ]
    },
    {
     "name": "stderr",
     "output_type": "stream",
     "text": [
      "[I 2025-10-25 23:39:45,002] Trial 8 finished with value: 0.13473366015496685 and parameters: {'n_layers': 3, 'n_units_l0': 202, 'n_units_l1': 193, 'n_units_l2': 130, 'lr': 0.015926837123636857, 'batch_size': 64, 'dropout_l0': 0.33901686140475495, 'dropout_l1': 0.0749146291272319, 'dropout_l2': 0.3615666575988998, 'weight_decay': 0.0024956223195560403, 'optimizer': 'momentum', 'stopping_patience': 4, 'activation_l0': 'tanh', 'activation_l1': 'tanh', 'activation_l2': 'leaky_relu'}. Best is trial 8 with value: 0.13473366015496685.\n"
     ]
    },
    {
     "name": "stdout",
     "output_type": "stream",
     "text": [
      "Epoch    1/40 | Train Loss: 0.2859 | Val Loss: 0.1826\n",
      "Epoch    6/40 | Train Loss: 0.0673 | Val Loss: 0.1464\n",
      "Epoch   11/40 | Train Loss: 0.0391 | Val Loss: 0.1698\n"
     ]
    },
    {
     "name": "stderr",
     "output_type": "stream",
     "text": [
      "[I 2025-10-25 23:39:54,136] Trial 9 finished with value: 0.14640615554679837 and parameters: {'n_layers': 2, 'n_units_l0': 65, 'n_units_l1': 86, 'lr': 0.006042291032902162, 'batch_size': 32, 'dropout_l0': 0.006627626982040391, 'dropout_l1': 0.19064959237014145, 'weight_decay': 1.420308766829856e-05, 'optimizer': 'adam', 'stopping_patience': 7, 'activation_l0': 'tanh', 'activation_l1': 'relu'}. Best is trial 8 with value: 0.13473366015496685.\n"
     ]
    },
    {
     "name": "stdout",
     "output_type": "stream",
     "text": [
      "Early stopping triggered.\n",
      "Epoch    1/40 | Train Loss: 2.3849 | Val Loss: 2.3044\n",
      "Epoch    6/40 | Train Loss: 2.3470 | Val Loss: 2.2782\n",
      "Epoch   11/40 | Train Loss: 2.3239 | Val Loss: 2.2510\n",
      "Epoch   16/40 | Train Loss: 2.2905 | Val Loss: 2.2164\n",
      "Epoch   21/40 | Train Loss: 2.2497 | Val Loss: 2.1670\n",
      "Epoch   26/40 | Train Loss: 2.1947 | Val Loss: 2.0929\n",
      "Epoch   31/40 | Train Loss: 2.1140 | Val Loss: 1.9838\n",
      "Epoch   36/40 | Train Loss: 1.9982 | Val Loss: 1.8385\n"
     ]
    },
    {
     "name": "stderr",
     "output_type": "stream",
     "text": [
      "[I 2025-10-25 23:42:07,422] Trial 10 finished with value: 1.7032833685160325 and parameters: {'n_layers': 4, 'n_units_l0': 251, 'n_units_l1': 192, 'n_units_l2': 77, 'n_units_l3': 254, 'lr': 0.00011799867731985009, 'batch_size': 16, 'dropout_l0': 0.49284758166078424, 'dropout_l1': 0.3567489678801291, 'dropout_l2': 0.18113368694544146, 'dropout_l3': 0.36027481194765043, 'weight_decay': 0.00025422373545824295, 'optimizer': 'momentum', 'stopping_patience': 3, 'activation_l0': 'tanh', 'activation_l1': 'sigmoid', 'activation_l2': 'tanh', 'activation_l3': 'sigmoid'}. Best is trial 8 with value: 0.13473366015496685.\n"
     ]
    },
    {
     "name": "stdout",
     "output_type": "stream",
     "text": [
      "Epoch    1/40 | Train Loss: 0.4137 | Val Loss: 0.2242\n",
      "Epoch    6/40 | Train Loss: 0.1433 | Val Loss: 0.1412\n",
      "Epoch   11/40 | Train Loss: 0.1112 | Val Loss: 0.1453\n",
      "Epoch   16/40 | Train Loss: 0.0988 | Val Loss: 0.1432\n",
      "Epoch   21/40 | Train Loss: 0.0950 | Val Loss: 0.1365\n",
      "Epoch   26/40 | Train Loss: 0.0929 | Val Loss: 0.1372\n"
     ]
    },
    {
     "name": "stderr",
     "output_type": "stream",
     "text": [
      "[I 2025-10-25 23:42:39,527] Trial 11 finished with value: 0.13373855245599356 and parameters: {'n_layers': 3, 'n_units_l0': 70, 'n_units_l1': 117, 'n_units_l2': 145, 'lr': 0.009573900247273245, 'batch_size': 32, 'dropout_l0': 0.1850036094506437, 'dropout_l1': 0.02303126563887041, 'dropout_l2': 0.24392273911886378, 'weight_decay': 2.0514790562166312e-05, 'optimizer': 'adam', 'stopping_patience': 10, 'activation_l0': 'tanh', 'activation_l1': 'tanh', 'activation_l2': 'relu'}. Best is trial 11 with value: 0.13373855245599356.\n"
     ]
    },
    {
     "name": "stdout",
     "output_type": "stream",
     "text": [
      "Early stopping triggered.\n",
      "Epoch    1/40 | Train Loss: 0.4488 | Val Loss: 0.2525\n",
      "Epoch    6/40 | Train Loss: 0.1272 | Val Loss: 0.1413\n",
      "Epoch   11/40 | Train Loss: 0.0985 | Val Loss: 0.1335\n",
      "Epoch   16/40 | Train Loss: 0.0900 | Val Loss: 0.1199\n",
      "Epoch   21/40 | Train Loss: 0.0881 | Val Loss: 0.1262\n"
     ]
    },
    {
     "name": "stderr",
     "output_type": "stream",
     "text": [
      "[I 2025-10-25 23:43:13,868] Trial 12 finished with value: 0.11990374797082225 and parameters: {'n_layers': 3, 'n_units_l0': 223, 'n_units_l1': 119, 'n_units_l2': 148, 'lr': 0.014422495551370882, 'batch_size': 64, 'dropout_l0': 0.20220505668167005, 'dropout_l1': 0.016648577967786606, 'dropout_l2': 0.24887457658884835, 'weight_decay': 2.5106608438452368e-05, 'optimizer': 'adam', 'stopping_patience': 9, 'activation_l0': 'tanh', 'activation_l1': 'tanh', 'activation_l2': 'relu'}. Best is trial 12 with value: 0.11990374797082225.\n"
     ]
    },
    {
     "name": "stdout",
     "output_type": "stream",
     "text": [
      "Early stopping triggered.\n",
      "Epoch    1/40 | Train Loss: 0.3664 | Val Loss: 0.2089\n",
      "Epoch    6/40 | Train Loss: 0.1049 | Val Loss: 0.1393\n",
      "Epoch   11/40 | Train Loss: 0.0780 | Val Loss: 0.1315\n",
      "Epoch   16/40 | Train Loss: 0.0680 | Val Loss: 0.1304\n",
      "Epoch   21/40 | Train Loss: 0.0662 | Val Loss: 0.1260\n"
     ]
    },
    {
     "name": "stderr",
     "output_type": "stream",
     "text": [
      "[I 2025-10-25 23:44:10,229] Trial 13 finished with value: 0.12234977942581762 and parameters: {'n_layers': 3, 'n_units_l0': 253, 'n_units_l1': 129, 'n_units_l2': 167, 'lr': 0.009169430854768856, 'batch_size': 32, 'dropout_l0': 0.1959308439210785, 'dropout_l1': 0.005060251270100263, 'dropout_l2': 0.22081719653280305, 'weight_decay': 2.2178168264957516e-05, 'optimizer': 'adam', 'stopping_patience': 10, 'activation_l0': 'tanh', 'activation_l1': 'tanh', 'activation_l2': 'relu'}. Best is trial 12 with value: 0.11990374797082225.\n"
     ]
    },
    {
     "name": "stdout",
     "output_type": "stream",
     "text": [
      "Early stopping triggered.\n",
      "Epoch    1/40 | Train Loss: 2.7760 | Val Loss: 1.9118\n",
      "Epoch    6/40 | Train Loss: 1.1717 | Val Loss: 0.9486\n",
      "Epoch   11/40 | Train Loss: 0.8826 | Val Loss: 0.7471\n",
      "Epoch   16/40 | Train Loss: 0.8328 | Val Loss: 0.6991\n",
      "Epoch   21/40 | Train Loss: 0.8046 | Val Loss: 0.6770\n",
      "Epoch   26/40 | Train Loss: 0.8669 | Val Loss: 0.6942\n"
     ]
    },
    {
     "name": "stderr",
     "output_type": "stream",
     "text": [
      "[I 2025-10-25 23:45:05,321] Trial 14 finished with value: 0.622608271159271 and parameters: {'n_layers': 4, 'n_units_l0': 254, 'n_units_l1': 117, 'n_units_l2': 179, 'n_units_l3': 146, 'lr': 0.09979527768184467, 'batch_size': 64, 'dropout_l0': 0.20032723582798734, 'dropout_l1': 0.011135834786620377, 'dropout_l2': 0.13130588622976475, 'dropout_l3': 0.2047107003460043, 'weight_decay': 2.4172462676873764e-05, 'optimizer': 'adam', 'stopping_patience': 10, 'activation_l0': 'tanh', 'activation_l1': 'tanh', 'activation_l2': 'relu', 'activation_l3': 'tanh'}. Best is trial 12 with value: 0.11990374797082225.\n"
     ]
    },
    {
     "name": "stdout",
     "output_type": "stream",
     "text": [
      "Early stopping triggered.\n",
      "Epoch    1/40 | Train Loss: 0.9719 | Val Loss: 0.3763\n",
      "Epoch    6/40 | Train Loss: 0.3568 | Val Loss: 0.2202\n",
      "Epoch   11/40 | Train Loss: 0.2985 | Val Loss: 0.2125\n",
      "Epoch   16/40 | Train Loss: 0.2680 | Val Loss: 0.1939\n",
      "Epoch   21/40 | Train Loss: 0.2616 | Val Loss: 0.2077\n",
      "Epoch   26/40 | Train Loss: 0.2646 | Val Loss: 0.1931\n",
      "Epoch   31/40 | Train Loss: 0.2553 | Val Loss: 0.1922\n",
      "Epoch   36/40 | Train Loss: 0.2665 | Val Loss: 0.1827\n"
     ]
    },
    {
     "name": "stderr",
     "output_type": "stream",
     "text": [
      "[I 2025-10-25 23:46:54,003] Trial 15 finished with value: 0.17432956436808086 and parameters: {'n_layers': 4, 'n_units_l0': 230, 'n_units_l1': 67, 'n_units_l2': 167, 'n_units_l3': 256, 'lr': 0.01642187364308757, 'batch_size': 32, 'dropout_l0': 0.2893896149260602, 'dropout_l1': 0.32466141131249404, 'dropout_l2': 0.26571625241206975, 'dropout_l3': 0.20494717141697824, 'weight_decay': 1.0470934782321685e-06, 'optimizer': 'adam', 'stopping_patience': 9, 'activation_l0': 'tanh', 'activation_l1': 'leaky_relu', 'activation_l2': 'relu', 'activation_l3': 'relu'}. Best is trial 12 with value: 0.11990374797082225.\n"
     ]
    },
    {
     "name": "stdout",
     "output_type": "stream",
     "text": [
      "Early stopping triggered.\n",
      "Epoch    1/40 | Train Loss: 0.2910 | Val Loss: 0.1705\n",
      "Epoch    6/40 | Train Loss: 0.0667 | Val Loss: 0.1186\n",
      "Epoch   11/40 | Train Loss: 0.0430 | Val Loss: 0.1265\n"
     ]
    },
    {
     "name": "stderr",
     "output_type": "stream",
     "text": [
      "[I 2025-10-25 23:47:57,528] Trial 16 finished with value: 0.11795482742652526 and parameters: {'n_layers': 3, 'n_units_l0': 228, 'n_units_l1': 186, 'n_units_l2': 117, 'lr': 0.0031405316937350753, 'batch_size': 16, 'dropout_l0': 0.1397419034113071, 'dropout_l1': 0.12263450228121416, 'dropout_l2': 0.2702223142987862, 'weight_decay': 6.493826677737431e-05, 'optimizer': 'adam', 'stopping_patience': 9, 'activation_l0': 'tanh', 'activation_l1': 'sigmoid', 'activation_l2': 'relu'}. Best is trial 16 with value: 0.11795482742652526.\n"
     ]
    },
    {
     "name": "stdout",
     "output_type": "stream",
     "text": [
      "Early stopping triggered.\n",
      "Epoch    1/40 | Train Loss: 1.4328 | Val Loss: 0.6471\n",
      "Epoch    6/40 | Train Loss: 0.3458 | Val Loss: 0.2690\n",
      "Epoch   11/40 | Train Loss: 0.2714 | Val Loss: 0.2274\n",
      "Epoch   16/40 | Train Loss: 0.2282 | Val Loss: 0.2027\n",
      "Epoch   21/40 | Train Loss: 0.1971 | Val Loss: 0.1858\n",
      "Epoch   26/40 | Train Loss: 0.1748 | Val Loss: 0.1730\n",
      "Epoch   31/40 | Train Loss: 0.1565 | Val Loss: 0.1630\n",
      "Epoch   36/40 | Train Loss: 0.1404 | Val Loss: 0.1557\n"
     ]
    },
    {
     "name": "stderr",
     "output_type": "stream",
     "text": [
      "[I 2025-10-25 23:49:19,048] Trial 17 finished with value: 0.14958021434280064 and parameters: {'n_layers': 3, 'n_units_l0': 206, 'n_units_l1': 254, 'n_units_l2': 107, 'lr': 0.002778406031037032, 'batch_size': 16, 'dropout_l0': 0.12879769511381456, 'dropout_l1': 0.12869825829090997, 'dropout_l2': 0.30329516021373104, 'weight_decay': 6.204603749720857e-05, 'optimizer': 'sgd', 'stopping_patience': 9, 'activation_l0': 'tanh', 'activation_l1': 'sigmoid', 'activation_l2': 'relu'}. Best is trial 16 with value: 0.11795482742652526.\n"
     ]
    },
    {
     "name": "stdout",
     "output_type": "stream",
     "text": [
      "Epoch    1/40 | Train Loss: 0.9821 | Val Loss: 0.4904\n",
      "Epoch    6/40 | Train Loss: 0.3399 | Val Loss: 0.2887\n",
      "Epoch   11/40 | Train Loss: 0.2666 | Val Loss: 0.2331\n",
      "Epoch   16/40 | Train Loss: 0.2214 | Val Loss: 0.1993\n",
      "Epoch   21/40 | Train Loss: 0.1945 | Val Loss: 0.1775\n",
      "Epoch   26/40 | Train Loss: 0.1772 | Val Loss: 0.1625\n",
      "Epoch   31/40 | Train Loss: 0.1602 | Val Loss: 0.1491\n",
      "Epoch   36/40 | Train Loss: 0.1491 | Val Loss: 0.1405\n"
     ]
    },
    {
     "name": "stderr",
     "output_type": "stream",
     "text": [
      "[I 2025-10-25 23:52:58,523] Trial 18 finished with value: 0.13370189328818877 and parameters: {'n_layers': 4, 'n_units_l0': 233, 'n_units_l1': 196, 'n_units_l2': 76, 'n_units_l3': 171, 'lr': 0.00025414775522299057, 'batch_size': 16, 'dropout_l0': 0.08538429838487463, 'dropout_l1': 0.0815331650722507, 'dropout_l2': 0.10779112599694132, 'dropout_l3': 0.48659933179679615, 'weight_decay': 0.0004989243389134363, 'optimizer': 'adam', 'stopping_patience': 9, 'activation_l0': 'sigmoid', 'activation_l1': 'sigmoid', 'activation_l2': 'tanh', 'activation_l3': 'sigmoid'}. Best is trial 16 with value: 0.11795482742652526.\n"
     ]
    },
    {
     "name": "stdout",
     "output_type": "stream",
     "text": [
      "Epoch    1/40 | Train Loss: 0.3756 | Val Loss: 0.1895\n",
      "Epoch    6/40 | Train Loss: 0.1079 | Val Loss: 0.1332\n",
      "Epoch   11/40 | Train Loss: 0.0730 | Val Loss: 0.1324\n"
     ]
    },
    {
     "name": "stderr",
     "output_type": "stream",
     "text": [
      "[I 2025-10-25 23:53:59,118] Trial 19 finished with value: 0.13129211593291104 and parameters: {'n_layers': 3, 'n_units_l0': 225, 'n_units_l1': 175, 'n_units_l2': 120, 'lr': 0.0017142716681980584, 'batch_size': 16, 'dropout_l0': 0.268861914186062, 'dropout_l1': 0.1712371824059719, 'dropout_l2': 0.4913648174376183, 'weight_decay': 5.657471304432082e-06, 'optimizer': 'adam', 'stopping_patience': 6, 'activation_l0': 'tanh', 'activation_l1': 'sigmoid', 'activation_l2': 'relu'}. Best is trial 16 with value: 0.11795482742652526.\n"
     ]
    },
    {
     "name": "stdout",
     "output_type": "stream",
     "text": [
      "Early stopping triggered.\n",
      "Best trial:\n",
      "  Value: 0.1180\n",
      "  Params:\n",
      "    n_layers: 3\n",
      "    n_units_l0: 228\n",
      "    n_units_l1: 186\n",
      "    n_units_l2: 117\n",
      "    lr: 0.0031405316937350753\n",
      "    batch_size: 16\n",
      "    dropout_l0: 0.1397419034113071\n",
      "    dropout_l1: 0.12263450228121416\n",
      "    dropout_l2: 0.2702223142987862\n",
      "    weight_decay: 6.493826677737431e-05\n",
      "    optimizer: adam\n",
      "    stopping_patience: 9\n",
      "    activation_l0: tanh\n",
      "    activation_l1: sigmoid\n",
      "    activation_l2: relu\n",
      "Epoch    1/100 | Train Loss: 0.2910 | Val Loss: 0.1705\n",
      "Epoch    6/100 | Train Loss: 0.0667 | Val Loss: 0.1186\n",
      "Epoch   11/100 | Train Loss: 0.0430 | Val Loss: 0.1265\n",
      "Early stopping triggered.\n"
     ]
    },
    {
     "data": {
      "image/png": "[encoded data removed]",
      "text/plain": [
       "<Figure size 600x400 with 1 Axes>"
      ]
     },
     "metadata": {},
     "output_type": "display_data"
    },
    {
     "name": "stdout",
     "output_type": "stream",
     "text": [
      "Test Accuracy: 96.69%\n"
     ]
    }
   ],
   "source": [
    "# ===============================\n",
    "# Deep Neural Network from Scratch (made faster)\n",
    "# Dataset: MNIST (Multiclass Classification)\n",
    "# ===============================\n",
    "\n",
    "import numpy as np\n",
    "import matplotlib.pyplot as plt\n",
    "from sklearn.datasets import fetch_openml\n",
    "from sklearn.model_selection import train_test_split\n",
    "from sklearn.preprocessing import OneHotEncoder, StandardScaler\n",
    "from functools import partial\n",
    "import optuna\n",
    "\n",
    "\n",
    "# =======================================\n",
    "# 1. Load and Preprocess Data\n",
    "# =======================================\n",
    "def show_images(image, num_row=2, num_col=5):\n",
    "    # plot images\n",
    "    image_size = int(np.sqrt(image.shape[-1]))\n",
    "    image = np.reshape(image, (image.shape[0], image_size, image_size))\n",
    "    fig, axes = plt.subplots(num_row, num_col, figsize=(1.5*num_col,2*num_row))\n",
    "    for i in range(num_row*num_col):\n",
    "        ax = axes[i//num_col, i%num_col]\n",
    "        ax.imshow(image[i], cmap='gray', vmin=0, vmax=1)\n",
    "        ax.axis('off')\n",
    "    plt.tight_layout()\n",
    "    plt.show()\n",
    "    \n",
    "print(\"Loading MNIST dataset...\")\n",
    "mnist_data = fetch_openml(\"mnist_784\", version=1, as_frame=False)\n",
    "X = mnist_data[\"data\"]\n",
    "y = mnist_data[\"target\"]\n",
    "\n",
    "# Normalize\n",
    "print(\"Preprocessing data...\")\n",
    "scaler = StandardScaler()\n",
    "X = scaler.fit_transform(X)\n",
    "\n",
    "# One-hot encode labels\n",
    "encoder = OneHotEncoder(sparse_output=False)\n",
    "y = encoder.fit_transform(y.reshape(-1, 1))\n",
    "\n",
    "def train_val_test_split(X, y, train_size=0.7, val_size=0.15, test_size=0.15, random_state=42):\n",
    "    assert abs(train_size + val_size + test_size - 1.0) < 1e-6, \"Sizes must sum to 1\"\n",
    "\n",
    "    # First split: train vs temp (val+test)\n",
    "    X_train, X_temp, y_train, y_temp = train_test_split(X, y, test_size=(1 - train_size), random_state=random_state, stratify=y)\n",
    "\n",
    "    # Compute proportion of validation relative to temp\n",
    "    val_prop = val_size / (val_size + test_size)\n",
    "    X_val, X_test, y_val, y_test = train_test_split(X_temp, y_temp, test_size=(1 - val_prop), random_state=random_state, stratify=y_temp)\n",
    "\n",
    "    return X_train, X_val, X_test, y_train, y_val, y_test\n",
    "\n",
    "# Usage:\n",
    "X_train, X_val, X_test, y_train, y_val, y_test = train_val_test_split(X, y)\n",
    "print(X_train.shape, X_val.shape, X_test.shape)\n",
    "show_images(X_train)\n",
    "\n",
    "\n",
    "# =======================================\n",
    "# 2. Activations\n",
    "# =======================================\n",
    "def sigmoid(x, is_derivative=False):\n",
    "    x = np.clip(x, -500, 500) # prevent overflow in exp\n",
    "    if is_derivative:\n",
    "        s = 1.0 / (1.0 + np.exp(-x))\n",
    "        return s * (1.0 - s)\n",
    "    return 1.0 / (1.0 + np.exp(-x))\n",
    "\n",
    "def tanh(x, is_derivative=False):\n",
    "    t = np.tanh(x)\n",
    "    if is_derivative:\n",
    "        return 1.0 - t * t\n",
    "    return t\n",
    "\n",
    "def relu(x, is_derivative=False):\n",
    "    if is_derivative:\n",
    "        return (x > 0).astype(float)\n",
    "    return np.maximum(0, x)\n",
    "\n",
    "def leaky_relu(x, is_derivative=False, alpha=0.01):\n",
    "    if is_derivative:\n",
    "        # return 1 where x>0, alpha otherwise\n",
    "        grad = np.ones_like(x)\n",
    "        grad[x < 0] = alpha\n",
    "        return grad\n",
    "    return np.where(x > 0, x, alpha * x)\n",
    "\n",
    "def softmax(x):\n",
    "    exp_shifted = np.exp(x - np.max(x, axis=0, keepdims=True))\n",
    "    return exp_shifted / np.sum(exp_shifted, axis=0, keepdims=True)\n",
    "\n",
    "\n",
    "# =======================================\n",
    "# 3. Loss Functions\n",
    "# =======================================\n",
    "def mse_loss(Y, Y_pred):\n",
    "    diff = Y - Y_pred.T\n",
    "    return 0.5 * np.mean(diff * diff)\n",
    "\n",
    "def cross_entropy_loss(Y, Y_pred, eps=1e-9):\n",
    "    Y_pred = np.clip(Y_pred.T, eps, 1 - eps)\n",
    "    return -np.mean(np.sum(Y * np.log(Y_pred), axis=1))\n",
    "\n",
    "\n",
    "# =======================================\n",
    "# 4. Initialization\n",
    "# =======================================\n",
    "def initialize_parameters(layer_dims, activations):\n",
    "    np.random.seed(42)\n",
    "    sqrt = np.sqrt\n",
    "    standard_normal = np.random.standard_normal\n",
    "\n",
    "    weights = []\n",
    "    biases = []\n",
    "\n",
    "    for i in range(1, len(layer_dims)):\n",
    "        fan_in = layer_dims[i - 1]\n",
    "        fan_out = layer_dims[i]\n",
    "\n",
    "        act = activations[i - 1]\n",
    "        scale = sqrt(2.0 / fan_in) if act in (\"relu\", \"leaky_relu\") else sqrt(1.0 / fan_in)\n",
    "\n",
    "        # allocate directly\n",
    "        W = standard_normal((fan_out, fan_in)).astype(np.float32) * scale\n",
    "        b = np.zeros((fan_out, 1), dtype=np.float32)\n",
    "\n",
    "        weights.append(W)\n",
    "        biases.append(b)\n",
    "\n",
    "    return weights, biases\n",
    "\n",
    "\n",
    "# =======================================\n",
    "# 5. Forward\n",
    "# =======================================\n",
    "def forward_propagation(X, weights, biases, activations, dropout_rates=None, training=True):\n",
    "    A = X.T\n",
    "    cache = [A]  # store activations for backprop\n",
    "    Zs = []      # store pre-activations (Z values)\n",
    "    masks = []   # store dropout masks\n",
    "\n",
    "    # Activation function map for direct access\n",
    "    act_funcs = {\n",
    "        \"sigmoid\": sigmoid,\n",
    "        \"relu\": relu,\n",
    "        \"tanh\": tanh,\n",
    "        \"leaky_relu\": leaky_relu,\n",
    "        \"softmax\": softmax\n",
    "    }\n",
    "\n",
    "    for i, (W, b, act_name) in enumerate(zip(weights, biases, activations)):\n",
    "        Z = W @ A + b\n",
    "        Zs.append(Z)\n",
    "\n",
    "        A = act_funcs[act_name](Z)\n",
    "\n",
    "        # Dropout (training only, not for output layer)\n",
    "        if training and dropout_rates and i < len(dropout_rates):\n",
    "            rate = dropout_rates[i]\n",
    "            mask = (np.random.rand(*A.shape) > rate).astype(float)\n",
    "            A *= mask\n",
    "            A /= (1 - rate)\n",
    "            masks.append(mask)\n",
    "        else:\n",
    "            masks.append(None)\n",
    "\n",
    "        cache.append(A)\n",
    "\n",
    "    return A, (cache, Zs, masks)\n",
    "\n",
    "\n",
    "# =======================================\n",
    "# 6. Backpropagation\n",
    "# =======================================\n",
    "def backward_propagation(Y, weights, cache_data, activations, dropout_rates=None, weight_decay=0.0):\n",
    "    cache, Zs, masks = cache_data\n",
    "    m = Y.shape[0]\n",
    "    L = len(weights)\n",
    "\n",
    "    dWs = [None] * L\n",
    "    dbs = [None] * L\n",
    "\n",
    "    Y = Y.T\n",
    "    dZ = cache[-1] - Y  # derivative of softmax-crossentropy\n",
    "\n",
    "    # Activation derivative map\n",
    "    act_derivs = {\n",
    "        \"sigmoid\": lambda Z: sigmoid(Z, True),\n",
    "        \"relu\": lambda Z: relu(Z, True),\n",
    "        \"tanh\": lambda Z: tanh(Z, True),\n",
    "        \"leaky_relu\": lambda Z: leaky_relu(Z, True)\n",
    "    }\n",
    "\n",
    "    for i in reversed(range(L)):\n",
    "        A_prev = cache[i]\n",
    "        W = weights[i]\n",
    "\n",
    "        # Gradients\n",
    "        dWs[i] = (dZ @ A_prev.T) / m + weight_decay * W\n",
    "        dbs[i] = np.sum(dZ, axis=1, keepdims=True) / m\n",
    "\n",
    "        # Gradient clipping (optional, can disable for extra speed)\n",
    "        # dWs[i] = np.clip(dWs[i], -5, 5)\n",
    "        # dbs[i] = np.clip(dbs[i], -5, 5)\n",
    "\n",
    "        if i > 0:\n",
    "            dA_prev = W.T @ dZ\n",
    "\n",
    "            # Apply dropout if used\n",
    "            if masks[i - 1] is not None:\n",
    "                dA_prev *= masks[i - 1]\n",
    "                dA_prev /= (1 - dropout_rates[i - 1])\n",
    "\n",
    "            # Apply activation derivative\n",
    "            dZ = dA_prev * act_derivs[activations[i - 1]](Zs[i - 1])\n",
    "\n",
    "    return dWs, dbs\n",
    "\n",
    "\n",
    "# =======================================\n",
    "# 7. Optimizers\n",
    "# =======================================\n",
    "'''\n",
    "    Stochatic Gradient Descent (SGD):\n",
    "    θ^(t+1) <- θ^t - η∇L(y, ŷ)\n",
    "\n",
    "    Momentum:\n",
    "    v^(t+1) <- βv^t + (1-β)∇L(y, ŷ)^t\n",
    "    θ^(t+1) <- θ^t - ηv^(t+1)\n",
    "\n",
    "    Adam:\n",
    "    m^(t+1) <- β1 m^t + (1-β1)∇L(y, ŷ)^t\n",
    "    v^(t+1) <- β2 v^t + (1-β2)(∇L(y, ŷ)^t)^2\n",
    "    m̂^(t+1) <- m^(t+1) / (1 - β1^(t+1))\n",
    "    v̂^(t+1) <- v^(t+1) / (1 - β2^(t+1))\n",
    "    θ^(t+1) <- θ^t - η m̂^(t+1) / (√(v̂^(t+1)) + ε)\n",
    "'''\n",
    "def update_parameters(weights, biases, dWs, dbs, lr, optimizer_type, velocity=None, beta=0.9, m=None, v=None, t=1, beta1=0.9, beta2=0.999, eps=1e-8):\n",
    "    L = len(weights)\n",
    "\n",
    "    if optimizer_type == \"sgd\":\n",
    "        for i in range(L):\n",
    "            weights[i] -= lr * dWs[i]\n",
    "            biases[i] -= lr * dbs[i]\n",
    "\n",
    "    elif optimizer_type == \"momentum\":\n",
    "        if velocity is None:\n",
    "            velocity = {\"W\": [np.zeros_like(W) for W in weights], \"b\": [np.zeros_like(b) for b in biases]}\n",
    "        for i in range(L):\n",
    "            velocity[\"W\"][i] = beta * velocity[\"W\"][i] + (1 - beta) * dWs[i]\n",
    "            velocity[\"b\"][i] = beta * velocity[\"b\"][i] + (1 - beta) * dbs[i]\n",
    "            weights[i] -= lr * velocity[\"W\"][i]\n",
    "            biases[i] -= lr * velocity[\"b\"][i]\n",
    "\n",
    "    elif optimizer_type == \"adam\":\n",
    "        if m is None:\n",
    "            m = {\"W\": [np.zeros_like(W) for W in weights], \"b\": [np.zeros_like(b) for b in biases]}\n",
    "            v = {\"W\": [np.zeros_like(W) for W in weights], \"b\": [np.zeros_like(b) for b in biases]}\n",
    "\n",
    "        for i in range(L):\n",
    "            # Update moment estimates\n",
    "            m[\"W\"][i] = beta1 * m[\"W\"][i] + (1 - beta1) * dWs[i]\n",
    "            m[\"b\"][i] = beta1 * m[\"b\"][i] + (1 - beta1) * dbs[i]\n",
    "            v[\"W\"][i] = beta2 * v[\"W\"][i] + (1 - beta2) * (dWs[i] ** 2)\n",
    "            v[\"b\"][i] = beta2 * v[\"b\"][i] + (1 - beta2) * (dbs[i] ** 2)\n",
    "\n",
    "            # Bias correction\n",
    "            m_hat_W = m[\"W\"][i] / (1 - beta1 ** t)\n",
    "            m_hat_b = m[\"b\"][i] / (1 - beta1 ** t)\n",
    "            v_hat_W = v[\"W\"][i] / (1 - beta2 ** t)\n",
    "            v_hat_b = v[\"b\"][i] / (1 - beta2 ** t)\n",
    "\n",
    "            # Parameter update\n",
    "            weights[i] -= lr * m_hat_W / (np.sqrt(v_hat_W) + eps)\n",
    "            biases[i] -= lr * m_hat_b / (np.sqrt(v_hat_b) + eps)\n",
    "\n",
    "    return weights, biases, velocity, (m, v)\n",
    "\n",
    "\n",
    "# =======================================\n",
    "# 8. Training Loop\n",
    "# =======================================\n",
    "def train_neural_network(\n",
    "    X_train, \n",
    "    Y_train,\n",
    "    X_val, \n",
    "    Y_val,\n",
    "    hidden_layers=[128, 64], \n",
    "    lr=0.01, \n",
    "    epochs=50,\n",
    "    batch_size=64,\n",
    "    activations=None, \n",
    "    loss_function=\"cross_entropy\",\n",
    "    optimizer_type=\"momentum\",\n",
    "    dropout_rates=None, \n",
    "    weight_decay=1e-4, \n",
    "    early_stopping=True, \n",
    "    patience=5, \n",
    "    print_every=5, \n",
    "    plot_loss=True,\n",
    "):\n",
    "    input_dim, output_dim = X_train.shape[1], Y_train.shape[1]\n",
    "    layer_dims = [input_dim] + hidden_layers + [output_dim]\n",
    "    if activations is None:\n",
    "        activations = [\"relu\"] * len(hidden_layers) + [\"softmax\"]\n",
    "\n",
    "    # Initialization\n",
    "    weights, biases = initialize_parameters(layer_dims, activations)\n",
    "    velocity, (m, v) = None, (None, None)\n",
    "    best_loss, patience_counter = np.inf, 0\n",
    "    train_losses, val_losses = [], []\n",
    "\n",
    "    # Mini-batch iterator\n",
    "    def batch_iterator(X, Y, batch_size):\n",
    "        for i in range(0, X.shape[0], batch_size):\n",
    "            yield X[i:i+batch_size], Y[i:i+batch_size]\n",
    "\n",
    "    for epoch in range(epochs):\n",
    "        # Shuffle\n",
    "        perm = np.random.permutation(X_train.shape[0])\n",
    "        X_shuffled, Y_shuffled = X_train[perm], Y_train[perm]\n",
    "\n",
    "        # Training by batch\n",
    "        epoch_loss = 0.0\n",
    "        num_batches = 0\n",
    "        for X_batch, Y_batch in batch_iterator(X_shuffled, Y_shuffled, batch_size):\n",
    "            # Forward\n",
    "            A_out, cache_data = forward_propagation(X_batch, weights, biases, activations, dropout_rates)\n",
    "\n",
    "            # Compute loss\n",
    "            if loss_function == \"cross_entropy\":\n",
    "                loss = cross_entropy_loss(Y_batch, A_out)\n",
    "            else:\n",
    "                loss = mse_loss(Y_batch, A_out)\n",
    "            epoch_loss += loss\n",
    "            num_batches += 1\n",
    "\n",
    "            # Backward\n",
    "            dWs, dbs = backward_propagation(Y_batch, weights, cache_data, activations, dropout_rates, weight_decay)\n",
    "\n",
    "            # Update params\n",
    "            weights, biases, velocity, (m, v) = update_parameters(weights, biases, dWs, dbs, lr, optimizer_type, velocity=velocity, m=m, v=v, t=epoch+1)\n",
    "\n",
    "        # Validation loss\n",
    "        A_val, _ = forward_propagation(X_val, weights, biases, activations)\n",
    "        val_loss = cross_entropy_loss(Y_val, A_val) if loss_function == \"cross_entropy\" else mse_loss(Y_val, A_val)\n",
    "\n",
    "        avg_loss = epoch_loss / num_batches\n",
    "        train_losses.append(avg_loss)\n",
    "        val_losses.append(val_loss)\n",
    "\n",
    "        # Print progress\n",
    "        if epoch % print_every == 0:\n",
    "            print(f\"Epoch {epoch+1:4d}/{epochs} | Train Loss: {avg_loss:.4f} | Val Loss: {val_loss:.4f}\")\n",
    "\n",
    "        # Early stopping\n",
    "        if early_stopping:\n",
    "            if val_loss < best_loss:\n",
    "                best_loss = val_loss\n",
    "                best_weights = [W.copy() for W in weights]\n",
    "                best_biases = [b.copy() for b in biases]\n",
    "                patience_counter = 0\n",
    "            else:\n",
    "                patience_counter += 1\n",
    "                if patience_counter >= patience:\n",
    "                    print(\"Early stopping triggered.\")\n",
    "                    weights, biases = best_weights, best_biases\n",
    "                    break\n",
    "\n",
    "    if plot_loss:\n",
    "        plt.figure(figsize=(6,4))\n",
    "        plt.plot(train_losses, label=\"Train\")\n",
    "        plt.plot(val_losses, label=\"Val\")\n",
    "        plt.legend()\n",
    "        plt.title(\"Loss over Epochs\")\n",
    "        plt.xlabel(\"Epoch\")\n",
    "        plt.ylabel(\"Loss\")\n",
    "        plt.show()\n",
    "\n",
    "    return weights, biases\n",
    "\n",
    "\n",
    "# =======================================\n",
    "# 9. Prediction & Evaluation\n",
    "# =======================================\n",
    "def predict(X, weights, biases, activations):\n",
    "    A_out, _ = forward_propagation(X, weights, biases, activations, training=False)\n",
    "    return np.argmax(A_out, axis=0)\n",
    "\n",
    "def accuracy_score(y_true, y_pred):\n",
    "    return np.mean(y_true == y_pred) * 100\n",
    "\n",
    "\n",
    "# =======================================\n",
    "# 10. Hyperparameter Optimization with Optuna\n",
    "# =======================================\n",
    "def objective(trial, loss_function=\"cross_entropy\", epochs=40):\n",
    "    # Hyperparameters to search\n",
    "    n_layers = trial.suggest_int(\"n_layers\", 2, 5)\n",
    "    hidden_layers = [trial.suggest_int(f\"n_units_l{i}\", 64, 256) for i in range(n_layers)]\n",
    "    lr = trial.suggest_float(\"lr\", 1e-4, 0.1, log=True)\n",
    "    batch_size = trial.suggest_categorical(\"batch_size\", [16, 32, 64, 128])\n",
    "    dropout_rates = [trial.suggest_float(f\"dropout_l{i}\", 0.0, 0.5) for i in range(n_layers)]\n",
    "    weight_decay = trial.suggest_float(\"weight_decay\", 1e-6, 1e-2, log=True)\n",
    "    optimizer_type = trial.suggest_categorical(\"optimizer\", [\"sgd\", \"momentum\", \"adam\"])\n",
    "    stopping_patience = trial.suggest_int(\"stopping_patience\", 3, 10)\n",
    "    # Activation functions per layer\n",
    "    possible_activations = [\"relu\", \"sigmoid\", \"tanh\", \"leaky_relu\"]\n",
    "    activations = [trial.suggest_categorical(f\"activation_l{i}\", possible_activations) for i in range(n_layers)]\n",
    "    activations.append(\"softmax\")  # output layer always softmax\n",
    "\n",
    "    # Train network\n",
    "    weights, biases = train_neural_network(\n",
    "        X_train, \n",
    "        y_train,\n",
    "        X_val, \n",
    "        y_val,\n",
    "        hidden_layers=hidden_layers,\n",
    "        lr=lr,\n",
    "        epochs=epochs,\n",
    "        batch_size=batch_size,\n",
    "        activations=activations,\n",
    "        loss_function=loss_function,\n",
    "        optimizer_type=optimizer_type,\n",
    "        dropout_rates=dropout_rates,\n",
    "        weight_decay=weight_decay,\n",
    "        early_stopping=True,\n",
    "        patience=stopping_patience,\n",
    "        print_every=5, \n",
    "        plot_loss=False\n",
    "    )\n",
    "\n",
    "    # Optuna tries to minimize the validation loss function\n",
    "    A_val, _ = forward_propagation(X_val, weights, biases, activations, training=False)\n",
    "    val_loss = cross_entropy_loss(y_val, A_val) if loss_function == \"cross_entropy\" else mse_loss(y_val, A_val)\n",
    "    return val_loss\n",
    "\n",
    "# Run Optuna study\n",
    "loss_function = \"cross_entropy\"\n",
    "epochs = 40\n",
    "obj = partial(objective, loss_function=loss_function, epochs=epochs)\n",
    "study = optuna.create_study(direction=\"minimize\", pruner=optuna.pruners.MedianPruner())\n",
    "study.optimize(obj, n_trials=20)\n",
    "\n",
    "# Best result summary\n",
    "print(\"Best trial:\")\n",
    "trial = study.best_trial\n",
    "print(f\"  Value: {trial.value:.4f}\")\n",
    "print(\"  Params:\")\n",
    "for key, value in trial.params.items():\n",
    "    print(f\"    {key}: {value}\")\n",
    "\n",
    "\n",
    "# =======================================\n",
    "# 11. Retrain Best Model on Train + Val and Evaluate on Test\n",
    "# =======================================\n",
    "best_params = trial.params\n",
    "n_layers = best_params[\"n_layers\"]\n",
    "hidden_layers = [best_params[f\"n_units_l{i}\"] for i in range(n_layers)]\n",
    "lr = best_params[\"lr\"]\n",
    "batch_size = best_params[\"batch_size\"]\n",
    "dropout_rates = [best_params[f\"dropout_l{i}\"] for i in range(n_layers)]\n",
    "weight_decay = best_params[\"weight_decay\"]\n",
    "optimizer_type = best_params[\"optimizer\"]\n",
    "stopping_patience = best_params[\"stopping_patience\"]\n",
    "activations = [best_params[f\"activation_l{i}\"] for i in range(n_layers)]\n",
    "activations.append(\"softmax\")  # output layer always softmax\n",
    "\n",
    "# Retrain final model\n",
    "weights, biases= train_neural_network(\n",
    "    X_train, \n",
    "    y_train,\n",
    "    X_val, \n",
    "    y_val,\n",
    "    hidden_layers=hidden_layers,\n",
    "    lr=lr,\n",
    "    epochs=100,\n",
    "    batch_size=batch_size,\n",
    "    activations=activations,\n",
    "    loss_function=loss_function,\n",
    "    optimizer_type=optimizer_type,\n",
    "    dropout_rates=dropout_rates,\n",
    "    weight_decay=weight_decay,\n",
    "    early_stopping=True,\n",
    "    patience=stopping_patience,\n",
    "    print_every=5,\n",
    "    plot_loss=True,\n",
    ")\n",
    "\n",
    "# Evaluate on test set\n",
    "y_test_pred = predict(X_test, weights, biases, activations)\n",
    "y_test_true = np.argmax(y_test, axis=1)\n",
    "test_accuracy = accuracy_score(y_test_true, y_test_pred)\n",
    "print(f\"Test Accuracy: {test_accuracy:.2f}%\")"
   ]
  }
 ],
 "metadata": {
  "kernelspec": {
   "display_name": "global_env",
   "language": "python",
   "name": "python3"
  },
  "language_info": {
   "codemirror_mode": {
    "name": "ipython",
    "version": 3
   },
   "file_extension": ".py",
   "mimetype": "text/x-python",
   "name": "python",
   "nbconvert_exporter": "python",
   "pygments_lexer": "ipython3",
   "version": "3.13.2"
  }
 },
 "nbformat": 4,
 "nbformat_minor": 5
}
