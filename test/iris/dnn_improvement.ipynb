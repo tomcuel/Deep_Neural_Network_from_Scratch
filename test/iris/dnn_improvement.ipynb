{
 "cells": [
  {
   "cell_type": "code",
   "execution_count": null,
   "id": "90dbd164",
   "metadata": {},
   "outputs": [
    {
     "name": "stderr",
     "output_type": "stream",
     "text": [
      "[I 2025-10-25 23:33:03,027] A new study created in memory with name: no-name-07cc5a3e-a6a6-43d3-8b42-514d15a48c45\n"
     ]
    },
    {
     "name": "stdout",
     "output_type": "stream",
     "text": [
      "(104, 4) (23, 4) (23, 4)\n",
      "Epoch    1/1000 | Train Loss: 1.1480 | Val Loss: 1.0785\n",
      "Epoch  101/1000 | Train Loss: 1.0860 | Val Loss: 1.0263\n",
      "Epoch  201/1000 | Train Loss: 1.0077 | Val Loss: 0.9951\n",
      "Epoch  301/1000 | Train Loss: 0.9929 | Val Loss: 0.9718\n",
      "Epoch  401/1000 | Train Loss: 0.9155 | Val Loss: 0.9502\n"
     ]
    },
    {
     "name": "stderr",
     "output_type": "stream",
     "text": [
      "[I 2025-10-25 23:33:03,425] Trial 0 finished with value: 0.8411672072248519 and parameters: {'n_layers': 1, 'n_units_l0': 38, 'lr': 0.0004968546591477243, 'batch_size': 32, 'dropout_l0': 0.20379574949710755, 'weight_decay': 1.925277430948873e-05, 'optimizer': 'sgd', 'stopping_patience': 96, 'activation_l0': 'sigmoid'}. Best is trial 0 with value: 0.8411672072248519.\n"
     ]
    },
    {
     "name": "stdout",
     "output_type": "stream",
     "text": [
      "Epoch  501/1000 | Train Loss: 0.8972 | Val Loss: 0.9300\n",
      "Epoch  601/1000 | Train Loss: 0.9373 | Val Loss: 0.9104\n",
      "Epoch  701/1000 | Train Loss: 0.8697 | Val Loss: 0.8917\n",
      "Epoch  801/1000 | Train Loss: 0.8594 | Val Loss: 0.8742\n",
      "Epoch  901/1000 | Train Loss: 0.8271 | Val Loss: 0.8572\n",
      "Epoch    1/1000 | Train Loss: 0.8167 | Val Loss: 0.5846\n",
      "Epoch  101/1000 | Train Loss: 0.0763 | Val Loss: 0.1236\n",
      "Epoch  201/1000 | Train Loss: 0.0608 | Val Loss: 0.1187\n",
      "Epoch  301/1000 | Train Loss: 0.0508 | Val Loss: 0.1155\n"
     ]
    },
    {
     "name": "stderr",
     "output_type": "stream",
     "text": [
      "[I 2025-10-25 23:33:03,923] Trial 1 finished with value: 0.11236772616451024 and parameters: {'n_layers': 1, 'n_units_l0': 49, 'lr': 0.055982613680720245, 'batch_size': 8, 'dropout_l0': 0.25081571183472545, 'weight_decay': 8.597765070060775e-06, 'optimizer': 'sgd', 'stopping_patience': 320, 'activation_l0': 'tanh'}. Best is trial 1 with value: 0.11236772616451024.\n"
     ]
    },
    {
     "name": "stdout",
     "output_type": "stream",
     "text": [
      "Epoch  401/1000 | Train Loss: 0.0584 | Val Loss: 0.1222\n",
      "Epoch  501/1000 | Train Loss: 0.0404 | Val Loss: 0.1213\n",
      "Epoch  601/1000 | Train Loss: 0.0486 | Val Loss: 0.1259\n",
      "Early stopping triggered.\n",
      "Epoch    1/1000 | Train Loss: 1.2733 | Val Loss: 1.1839\n",
      "Epoch  101/1000 | Train Loss: 0.2861 | Val Loss: 0.3861\n",
      "Epoch  201/1000 | Train Loss: 0.2919 | Val Loss: 0.3323\n",
      "Epoch  301/1000 | Train Loss: 0.1866 | Val Loss: 0.3025\n",
      "Epoch  401/1000 | Train Loss: 0.2094 | Val Loss: 0.2777\n"
     ]
    },
    {
     "name": "stderr",
     "output_type": "stream",
     "text": [
      "[I 2025-10-25 23:33:04,353] Trial 2 finished with value: 0.21671800447318584 and parameters: {'n_layers': 1, 'n_units_l0': 109, 'lr': 0.008652740740371274, 'batch_size': 32, 'dropout_l0': 0.4630115400441294, 'weight_decay': 2.636043885744971e-05, 'optimizer': 'sgd', 'stopping_patience': 394, 'activation_l0': 'relu'}. Best is trial 1 with value: 0.11236772616451024.\n"
     ]
    },
    {
     "name": "stdout",
     "output_type": "stream",
     "text": [
      "Epoch  501/1000 | Train Loss: 0.1763 | Val Loss: 0.2618\n",
      "Epoch  601/1000 | Train Loss: 0.1406 | Val Loss: 0.2458\n",
      "Epoch  701/1000 | Train Loss: 0.1205 | Val Loss: 0.2360\n",
      "Epoch  801/1000 | Train Loss: 0.1174 | Val Loss: 0.2299\n",
      "Epoch  901/1000 | Train Loss: 0.1078 | Val Loss: 0.2277\n",
      "Epoch    1/1000 | Train Loss: 1.1598 | Val Loss: 1.0770\n",
      "Epoch  101/1000 | Train Loss: 1.0713 | Val Loss: 0.9760\n",
      "Epoch  201/1000 | Train Loss: 0.9829 | Val Loss: 0.9049\n",
      "Epoch  301/1000 | Train Loss: 0.9675 | Val Loss: 0.8391\n",
      "Epoch  401/1000 | Train Loss: 0.8991 | Val Loss: 0.7803\n",
      "Epoch  501/1000 | Train Loss: 0.8571 | Val Loss: 0.7248\n",
      "Epoch  601/1000 | Train Loss: 0.8534 | Val Loss: 0.6747\n",
      "Epoch  701/1000 | Train Loss: 0.7053 | Val Loss: 0.6310\n",
      "Epoch  801/1000 | Train Loss: 0.7540 | Val Loss: 0.5904\n"
     ]
    },
    {
     "name": "stderr",
     "output_type": "stream",
     "text": [
      "[I 2025-10-25 23:33:06,035] Trial 3 finished with value: 0.5291349724396794 and parameters: {'n_layers': 3, 'n_units_l0': 117, 'n_units_l1': 113, 'n_units_l2': 77, 'lr': 0.00036072689913294997, 'batch_size': 16, 'dropout_l0': 0.382169266574253, 'dropout_l1': 0.24587309176078115, 'dropout_l2': 0.08775438501102178, 'weight_decay': 6.810555145200968e-05, 'optimizer': 'sgd', 'stopping_patience': 491, 'activation_l0': 'sigmoid', 'activation_l1': 'leaky_relu', 'activation_l2': 'tanh'}. Best is trial 1 with value: 0.11236772616451024.\n"
     ]
    },
    {
     "name": "stdout",
     "output_type": "stream",
     "text": [
      "Epoch  901/1000 | Train Loss: 0.7332 | Val Loss: 0.5580\n",
      "Epoch    1/1000 | Train Loss: 1.4335 | Val Loss: 1.2699\n",
      "Epoch  101/1000 | Train Loss: 1.0889 | Val Loss: 1.0326\n",
      "Epoch  201/1000 | Train Loss: 1.1556 | Val Loss: 0.9361\n",
      "Epoch  301/1000 | Train Loss: 0.9374 | Val Loss: 0.8583\n",
      "Epoch  401/1000 | Train Loss: 0.9326 | Val Loss: 0.7958\n",
      "Epoch  501/1000 | Train Loss: 0.8062 | Val Loss: 0.7428\n",
      "Epoch  601/1000 | Train Loss: 0.8154 | Val Loss: 0.6963\n",
      "Epoch  701/1000 | Train Loss: 0.7998 | Val Loss: 0.6582\n",
      "Epoch  801/1000 | Train Loss: 0.6977 | Val Loss: 0.6251\n",
      "Epoch  901/1000 | Train Loss: 0.6314 | Val Loss: 0.5977\n"
     ]
    },
    {
     "name": "stderr",
     "output_type": "stream",
     "text": [
      "[I 2025-10-25 23:33:06,785] Trial 4 finished with value: 0.573157480707722 and parameters: {'n_layers': 2, 'n_units_l0': 51, 'n_units_l1': 117, 'lr': 0.0006687163725703356, 'batch_size': 32, 'dropout_l0': 0.19035150629081998, 'dropout_l1': 0.48152237291942174, 'weight_decay': 3.0247636467849347e-06, 'optimizer': 'momentum', 'stopping_patience': 410, 'activation_l0': 'sigmoid', 'activation_l1': 'leaky_relu'}. Best is trial 1 with value: 0.11236772616451024.\n"
     ]
    },
    {
     "name": "stdout",
     "output_type": "stream",
     "text": [
      "Epoch    1/1000 | Train Loss: 1.0787 | Val Loss: 0.6699\n",
      "Epoch  101/1000 | Train Loss: 0.0839 | Val Loss: 0.1763\n",
      "Epoch  201/1000 | Train Loss: 0.0777 | Val Loss: 0.1806\n",
      "Epoch  301/1000 | Train Loss: 0.0370 | Val Loss: 0.2070\n"
     ]
    },
    {
     "name": "stderr",
     "output_type": "stream",
     "text": [
      "[I 2025-10-25 23:33:07,202] Trial 5 finished with value: 0.15108384497463404 and parameters: {'n_layers': 2, 'n_units_l0': 62, 'n_units_l1': 25, 'lr': 0.03803809311110164, 'batch_size': 16, 'dropout_l0': 0.0025907961214736708, 'dropout_l1': 0.362295188723749, 'weight_decay': 0.0012068201446701855, 'optimizer': 'sgd', 'stopping_patience': 448, 'activation_l0': 'relu', 'activation_l1': 'relu'}. Best is trial 1 with value: 0.11236772616451024.\n"
     ]
    },
    {
     "name": "stdout",
     "output_type": "stream",
     "text": [
      "Epoch  401/1000 | Train Loss: 0.0523 | Val Loss: 0.2155\n",
      "Epoch  501/1000 | Train Loss: 0.0484 | Val Loss: 0.2158\n",
      "Early stopping triggered.\n",
      "Epoch    1/1000 | Train Loss: 1.1453 | Val Loss: 1.1108\n",
      "Epoch  101/1000 | Train Loss: 0.5250 | Val Loss: 0.3716\n",
      "Epoch  201/1000 | Train Loss: 0.4262 | Val Loss: 0.2338\n",
      "Epoch  301/1000 | Train Loss: 0.3755 | Val Loss: 0.1689\n",
      "Epoch  401/1000 | Train Loss: 0.2481 | Val Loss: 0.1291\n",
      "Epoch  501/1000 | Train Loss: 0.2526 | Val Loss: 0.1020\n",
      "Epoch  601/1000 | Train Loss: 0.2602 | Val Loss: 0.0754\n",
      "Epoch  701/1000 | Train Loss: 0.2184 | Val Loss: 0.0647\n",
      "Epoch  801/1000 | Train Loss: 0.2409 | Val Loss: 0.0573\n",
      "Epoch  901/1000 | Train Loss: 0.1449 | Val Loss: 0.0527\n"
     ]
    },
    {
     "name": "stderr",
     "output_type": "stream",
     "text": [
      "[I 2025-10-25 23:33:09,192] Trial 6 finished with value: 0.04842751628387452 and parameters: {'n_layers': 3, 'n_units_l0': 16, 'n_units_l1': 104, 'n_units_l2': 45, 'lr': 0.0052713111200111485, 'batch_size': 8, 'dropout_l0': 0.3501631356684692, 'dropout_l1': 0.3427330066670643, 'dropout_l2': 0.15786598045307998, 'weight_decay': 0.005411739452991505, 'optimizer': 'momentum', 'stopping_patience': 271, 'activation_l0': 'tanh', 'activation_l1': 'sigmoid', 'activation_l2': 'relu'}. Best is trial 6 with value: 0.04842751628387452.\n"
     ]
    },
    {
     "name": "stdout",
     "output_type": "stream",
     "text": [
      "Epoch    1/1000 | Train Loss: 1.1273 | Val Loss: 1.0792\n",
      "Epoch  101/1000 | Train Loss: 1.0754 | Val Loss: 1.0561\n",
      "Epoch  201/1000 | Train Loss: 1.0582 | Val Loss: 1.0376\n",
      "Epoch  301/1000 | Train Loss: 1.0372 | Val Loss: 1.0229\n",
      "Epoch  401/1000 | Train Loss: 1.0246 | Val Loss: 1.0109\n",
      "Epoch  501/1000 | Train Loss: 1.0174 | Val Loss: 1.0004\n",
      "Epoch  601/1000 | Train Loss: 0.9904 | Val Loss: 0.9910\n",
      "Epoch  701/1000 | Train Loss: 1.0044 | Val Loss: 0.9823\n"
     ]
    },
    {
     "name": "stderr",
     "output_type": "stream",
     "text": [
      "[I 2025-10-25 23:33:09,708] Trial 7 finished with value: 0.9582822087117763 and parameters: {'n_layers': 1, 'n_units_l0': 38, 'lr': 0.00010307132317128439, 'batch_size': 16, 'dropout_l0': 0.20613952460137597, 'weight_decay': 5.034976110346226e-05, 'optimizer': 'momentum', 'stopping_patience': 75, 'activation_l0': 'sigmoid'}. Best is trial 6 with value: 0.04842751628387452.\n"
     ]
    },
    {
     "name": "stdout",
     "output_type": "stream",
     "text": [
      "Epoch  801/1000 | Train Loss: 1.0065 | Val Loss: 0.9740\n",
      "Epoch  901/1000 | Train Loss: 0.9934 | Val Loss: 0.9660\n",
      "Epoch    1/1000 | Train Loss: 1.0714 | Val Loss: 1.0071\n",
      "Epoch  101/1000 | Train Loss: 0.2024 | Val Loss: 0.2673\n",
      "Epoch  201/1000 | Train Loss: 0.1412 | Val Loss: 0.1779\n",
      "Epoch  301/1000 | Train Loss: 0.1158 | Val Loss: 0.1293\n",
      "Epoch  401/1000 | Train Loss: 0.0749 | Val Loss: 0.1181\n",
      "Epoch  501/1000 | Train Loss: 0.0631 | Val Loss: 0.1012\n",
      "Epoch  601/1000 | Train Loss: 0.1039 | Val Loss: 0.0963\n",
      "Epoch  701/1000 | Train Loss: 0.0514 | Val Loss: 0.0767\n",
      "Epoch  801/1000 | Train Loss: 0.0472 | Val Loss: 0.0609\n",
      "Epoch  901/1000 | Train Loss: 0.0691 | Val Loss: 0.0620\n"
     ]
    },
    {
     "name": "stderr",
     "output_type": "stream",
     "text": [
      "[I 2025-10-25 23:33:10,324] Trial 8 finished with value: 0.056828971214531065 and parameters: {'n_layers': 3, 'n_units_l0': 87, 'n_units_l1': 74, 'n_units_l2': 27, 'lr': 0.021400702720680384, 'batch_size': 64, 'dropout_l0': 0.10794523583094173, 'dropout_l1': 0.13968627557451685, 'dropout_l2': 0.1263117855912126, 'weight_decay': 3.3665857648325408e-06, 'optimizer': 'sgd', 'stopping_patience': 421, 'activation_l0': 'leaky_relu', 'activation_l1': 'tanh', 'activation_l2': 'leaky_relu'}. Best is trial 6 with value: 0.04842751628387452.\n"
     ]
    },
    {
     "name": "stdout",
     "output_type": "stream",
     "text": [
      "Epoch    1/1000 | Train Loss: 1.2698 | Val Loss: 1.1924\n",
      "Epoch  101/1000 | Train Loss: 1.0050 | Val Loss: 0.8951\n",
      "Epoch  201/1000 | Train Loss: 0.7540 | Val Loss: 0.7360\n",
      "Epoch  301/1000 | Train Loss: 0.7051 | Val Loss: 0.6442\n",
      "Epoch  401/1000 | Train Loss: 0.6172 | Val Loss: 0.5864\n",
      "Epoch  501/1000 | Train Loss: 0.5745 | Val Loss: 0.5478\n",
      "Epoch  601/1000 | Train Loss: 0.5612 | Val Loss: 0.5201\n",
      "Epoch  701/1000 | Train Loss: 0.5582 | Val Loss: 0.4998\n",
      "Epoch  801/1000 | Train Loss: 0.4635 | Val Loss: 0.4841\n"
     ]
    },
    {
     "name": "stderr",
     "output_type": "stream",
     "text": [
      "[I 2025-10-25 23:33:11,092] Trial 9 finished with value: 0.4606308944285112 and parameters: {'n_layers': 3, 'n_units_l0': 95, 'n_units_l1': 88, 'n_units_l2': 80, 'lr': 0.0003989478313079206, 'batch_size': 64, 'dropout_l0': 0.31922389833752984, 'dropout_l1': 0.36762435128729104, 'dropout_l2': 0.18560773422460164, 'weight_decay': 6.735110053316927e-05, 'optimizer': 'sgd', 'stopping_patience': 395, 'activation_l0': 'tanh', 'activation_l1': 'tanh', 'activation_l2': 'tanh'}. Best is trial 6 with value: 0.04842751628387452.\n"
     ]
    },
    {
     "name": "stdout",
     "output_type": "stream",
     "text": [
      "Epoch  901/1000 | Train Loss: 0.4620 | Val Loss: 0.4710\n",
      "Epoch    1/1000 | Train Loss: 1.2802 | Val Loss: 1.1634\n",
      "Epoch  101/1000 | Train Loss: 0.8869 | Val Loss: 0.8076\n",
      "Epoch  201/1000 | Train Loss: 0.7265 | Val Loss: 0.5954\n",
      "Epoch  301/1000 | Train Loss: 0.6035 | Val Loss: 0.4984\n",
      "Epoch  401/1000 | Train Loss: 0.6386 | Val Loss: 0.4347\n",
      "Epoch  501/1000 | Train Loss: 0.5616 | Val Loss: 0.4087\n",
      "Epoch  601/1000 | Train Loss: 0.5329 | Val Loss: 0.3857\n",
      "Epoch  701/1000 | Train Loss: 0.5400 | Val Loss: 0.3663\n",
      "Epoch  801/1000 | Train Loss: 0.5288 | Val Loss: 0.3498\n"
     ]
    },
    {
     "name": "stderr",
     "output_type": "stream",
     "text": [
      "[I 2025-10-25 23:33:12,552] Trial 10 finished with value: 0.32656020479024056 and parameters: {'n_layers': 3, 'n_units_l0': 5, 'n_units_l1': 34, 'n_units_l2': 14, 'lr': 0.0030172992140865356, 'batch_size': 8, 'dropout_l0': 0.48443186750869716, 'dropout_l1': 0.09448941855758058, 'dropout_l2': 0.41756452743907657, 'weight_decay': 0.009592668108817088, 'optimizer': 'momentum', 'stopping_patience': 195, 'activation_l0': 'tanh', 'activation_l1': 'sigmoid', 'activation_l2': 'relu'}. Best is trial 6 with value: 0.04842751628387452.\n"
     ]
    },
    {
     "name": "stdout",
     "output_type": "stream",
     "text": [
      "Epoch  901/1000 | Train Loss: 0.4886 | Val Loss: 0.3374\n",
      "Epoch    1/1000 | Train Loss: 1.1416 | Val Loss: 1.1203\n",
      "Epoch  101/1000 | Train Loss: 0.6107 | Val Loss: 0.6056\n",
      "Epoch  201/1000 | Train Loss: 0.4063 | Val Loss: 0.4028\n",
      "Epoch  301/1000 | Train Loss: 0.3325 | Val Loss: 0.3067\n",
      "Epoch  401/1000 | Train Loss: 0.3015 | Val Loss: 0.2497\n",
      "Epoch  501/1000 | Train Loss: 0.2022 | Val Loss: 0.2091\n",
      "Epoch  601/1000 | Train Loss: 0.2464 | Val Loss: 0.1743\n",
      "Epoch  701/1000 | Train Loss: 0.1704 | Val Loss: 0.1472\n",
      "Epoch  801/1000 | Train Loss: 0.1651 | Val Loss: 0.1260\n"
     ]
    },
    {
     "name": "stderr",
     "output_type": "stream",
     "text": [
      "[I 2025-10-25 23:33:13,226] Trial 11 finished with value: 0.09499182512356667 and parameters: {'n_layers': 3, 'n_units_l0': 86, 'n_units_l1': 68, 'n_units_l2': 23, 'lr': 0.010675962286277811, 'batch_size': 64, 'dropout_l0': 0.07636440454992713, 'dropout_l1': 0.11504010242654128, 'dropout_l2': 0.016886613777264525, 'weight_decay': 0.0007375983189434509, 'optimizer': 'momentum', 'stopping_patience': 272, 'activation_l0': 'leaky_relu', 'activation_l1': 'sigmoid', 'activation_l2': 'leaky_relu'}. Best is trial 6 with value: 0.04842751628387452.\n"
     ]
    },
    {
     "name": "stdout",
     "output_type": "stream",
     "text": [
      "Epoch  901/1000 | Train Loss: 0.1580 | Val Loss: 0.1085\n",
      "Epoch    1/1000 | Train Loss: 1.4085 | Val Loss: 1.2820\n",
      "Epoch  101/1000 | Train Loss: 0.3523 | Val Loss: 0.2993\n",
      "Epoch  201/1000 | Train Loss: 0.2654 | Val Loss: 0.2213\n",
      "Epoch  301/1000 | Train Loss: 0.2147 | Val Loss: 0.1731\n",
      "Epoch  401/1000 | Train Loss: 0.1509 | Val Loss: 0.1435\n",
      "Epoch  501/1000 | Train Loss: 0.1646 | Val Loss: 0.1278\n",
      "Epoch  601/1000 | Train Loss: 0.1634 | Val Loss: 0.1185\n",
      "Epoch  701/1000 | Train Loss: 0.1527 | Val Loss: 0.1117\n",
      "Epoch  801/1000 | Train Loss: 0.1140 | Val Loss: 0.1079\n",
      "Epoch  901/1000 | Train Loss: 0.1647 | Val Loss: 0.1031\n"
     ]
    },
    {
     "name": "stderr",
     "output_type": "stream",
     "text": [
      "[I 2025-10-25 23:33:13,610] Trial 12 finished with value: 0.0988867594126542 and parameters: {'n_layers': 2, 'n_units_l0': 6, 'n_units_l1': 77, 'lr': 0.012800235094663059, 'batch_size': 64, 'dropout_l0': 0.09938216828997923, 'dropout_l1': 0.24571242891797498, 'weight_decay': 1.3453581508920291e-06, 'optimizer': 'momentum', 'stopping_patience': 275, 'activation_l0': 'leaky_relu', 'activation_l1': 'tanh'}. Best is trial 6 with value: 0.04842751628387452.\n"
     ]
    },
    {
     "name": "stdout",
     "output_type": "stream",
     "text": [
      "Epoch    1/1000 | Train Loss: 1.1910 | Val Loss: 1.1391\n",
      "Epoch  101/1000 | Train Loss: 0.3260 | Val Loss: 0.3433\n",
      "Epoch  201/1000 | Train Loss: 0.2655 | Val Loss: 0.2462\n",
      "Epoch  301/1000 | Train Loss: 0.2143 | Val Loss: 0.1948\n",
      "Epoch  401/1000 | Train Loss: 0.1647 | Val Loss: 0.1681\n",
      "Epoch  501/1000 | Train Loss: 0.1282 | Val Loss: 0.1413\n",
      "Epoch  601/1000 | Train Loss: 0.0949 | Val Loss: 0.1173\n",
      "Epoch  701/1000 | Train Loss: 0.0871 | Val Loss: 0.1126\n",
      "Epoch  801/1000 | Train Loss: 0.0892 | Val Loss: 0.1031\n",
      "Epoch  901/1000 | Train Loss: 0.1087 | Val Loss: 0.1020\n"
     ]
    },
    {
     "name": "stderr",
     "output_type": "stream",
     "text": [
      "[I 2025-10-25 23:33:15,947] Trial 13 finished with value: 0.10532007115340702 and parameters: {'n_layers': 3, 'n_units_l0': 80, 'n_units_l1': 97, 'n_units_l2': 42, 'lr': 0.002425031848219533, 'batch_size': 8, 'dropout_l0': 0.34637359562730197, 'dropout_l1': 0.17096053325181956, 'dropout_l2': 0.2074667633042208, 'weight_decay': 0.0005773957057533575, 'optimizer': 'momentum', 'stopping_patience': 179, 'activation_l0': 'leaky_relu', 'activation_l1': 'tanh', 'activation_l2': 'leaky_relu'}. Best is trial 6 with value: 0.04842751628387452.\n"
     ]
    },
    {
     "name": "stdout",
     "output_type": "stream",
     "text": [
      "Epoch    1/1000 | Train Loss: 1.1083 | Val Loss: 0.7853\n",
      "Epoch  101/1000 | Train Loss: 0.1268 | Val Loss: 0.0453\n",
      "Epoch  201/1000 | Train Loss: 0.1330 | Val Loss: 0.0457\n",
      "Epoch  301/1000 | Train Loss: 0.0788 | Val Loss: 0.0657\n",
      "Epoch  401/1000 | Train Loss: 0.1339 | Val Loss: 0.0841\n",
      "Epoch  501/1000 | Train Loss: 0.1092 | Val Loss: 0.0430\n",
      "Epoch  601/1000 | Train Loss: 0.1162 | Val Loss: 0.0421\n",
      "Epoch  701/1000 | Train Loss: 0.1006 | Val Loss: 0.0484\n",
      "Epoch  801/1000 | Train Loss: 0.0895 | Val Loss: 0.0421\n",
      "Epoch  901/1000 | Train Loss: 0.1121 | Val Loss: 0.0425\n"
     ]
    },
    {
     "name": "stderr",
     "output_type": "stream",
     "text": [
      "[I 2025-10-25 23:33:17,747] Trial 14 finished with value: 0.05241113522796703 and parameters: {'n_layers': 3, 'n_units_l0': 24, 'n_units_l1': 47, 'n_units_l2': 121, 'lr': 0.09954501079038494, 'batch_size': 8, 'dropout_l0': 0.11308009076400133, 'dropout_l1': 0.02560740180945227, 'dropout_l2': 0.13831136495567628, 'weight_decay': 0.007681891802620772, 'optimizer': 'sgd', 'stopping_patience': 340, 'activation_l0': 'tanh', 'activation_l1': 'sigmoid', 'activation_l2': 'relu'}. Best is trial 6 with value: 0.04842751628387452.\n"
     ]
    },
    {
     "name": "stdout",
     "output_type": "stream",
     "text": [
      "Epoch    1/1000 | Train Loss: 1.0741 | Val Loss: 1.0089\n",
      "Epoch  101/1000 | Train Loss: 0.1513 | Val Loss: 0.1198\n",
      "Epoch  201/1000 | Train Loss: 0.1341 | Val Loss: 0.1099\n",
      "Epoch  301/1000 | Train Loss: 0.1360 | Val Loss: 0.1071\n",
      "Epoch  401/1000 | Train Loss: 0.1350 | Val Loss: 0.1048\n",
      "Epoch  501/1000 | Train Loss: 0.1286 | Val Loss: 0.1021\n",
      "Epoch  601/1000 | Train Loss: 0.1282 | Val Loss: 0.1039\n",
      "Epoch  701/1000 | Train Loss: 0.1241 | Val Loss: 0.1032\n",
      "Epoch  801/1000 | Train Loss: 0.1411 | Val Loss: 0.1021\n",
      "Epoch  901/1000 | Train Loss: 0.1352 | Val Loss: 0.1049\n"
     ]
    },
    {
     "name": "stderr",
     "output_type": "stream",
     "text": [
      "[I 2025-10-25 23:33:18,977] Trial 15 finished with value: 0.1041544242000527 and parameters: {'n_layers': 2, 'n_units_l0': 23, 'n_units_l1': 48, 'lr': 0.08775370277530903, 'batch_size': 8, 'dropout_l0': 0.4144189754513643, 'dropout_l1': 0.015445620050883957, 'weight_decay': 0.008721066392037832, 'optimizer': 'momentum', 'stopping_patience': 329, 'activation_l0': 'tanh', 'activation_l1': 'sigmoid'}. Best is trial 6 with value: 0.04842751628387452.\n"
     ]
    },
    {
     "name": "stdout",
     "output_type": "stream",
     "text": [
      "Epoch    1/1000 | Train Loss: 1.1770 | Val Loss: 1.1073\n",
      "Epoch  101/1000 | Train Loss: 0.9582 | Val Loss: 0.8900\n",
      "Epoch  201/1000 | Train Loss: 0.7559 | Val Loss: 0.6377\n",
      "Epoch  301/1000 | Train Loss: 0.6580 | Val Loss: 0.4865\n",
      "Epoch  401/1000 | Train Loss: 0.5542 | Val Loss: 0.3970\n",
      "Epoch  501/1000 | Train Loss: 0.5075 | Val Loss: 0.3323\n",
      "Epoch  601/1000 | Train Loss: 0.5561 | Val Loss: 0.2949\n",
      "Epoch  701/1000 | Train Loss: 0.4125 | Val Loss: 0.2631\n",
      "Epoch  801/1000 | Train Loss: 0.3685 | Val Loss: 0.2384\n",
      "Epoch  901/1000 | Train Loss: 0.4040 | Val Loss: 0.2195\n"
     ]
    },
    {
     "name": "stderr",
     "output_type": "stream",
     "text": [
      "[I 2025-10-25 23:33:20,454] Trial 16 finished with value: 0.2025862486786637 and parameters: {'n_layers': 3, 'n_units_l0': 21, 'n_units_l1': 10, 'n_units_l2': 124, 'lr': 0.0013780592914926964, 'batch_size': 8, 'dropout_l0': 0.2781892842035234, 'dropout_l1': 0.363735525070744, 'dropout_l2': 0.31179792115887073, 'weight_decay': 0.0029419671509996344, 'optimizer': 'sgd', 'stopping_patience': 206, 'activation_l0': 'tanh', 'activation_l1': 'sigmoid', 'activation_l2': 'relu'}. Best is trial 6 with value: 0.04842751628387452.\n"
     ]
    },
    {
     "name": "stdout",
     "output_type": "stream",
     "text": [
      "Epoch    1/1000 | Train Loss: 1.2469 | Val Loss: 1.2220\n",
      "Epoch  101/1000 | Train Loss: 0.4283 | Val Loss: 0.4675\n",
      "Epoch  201/1000 | Train Loss: 0.2897 | Val Loss: 0.3240\n",
      "Epoch  301/1000 | Train Loss: 0.2172 | Val Loss: 0.2328\n",
      "Epoch  401/1000 | Train Loss: 0.1551 | Val Loss: 0.1757\n",
      "Epoch  501/1000 | Train Loss: 0.1312 | Val Loss: 0.1424\n",
      "Epoch  601/1000 | Train Loss: 0.1187 | Val Loss: 0.1219\n",
      "Epoch  701/1000 | Train Loss: 0.1077 | Val Loss: 0.1087\n",
      "Epoch  801/1000 | Train Loss: 0.0999 | Val Loss: 0.1002\n",
      "Epoch  901/1000 | Train Loss: 0.1031 | Val Loss: 0.0942\n"
     ]
    },
    {
     "name": "stderr",
     "output_type": "stream",
     "text": [
      "[I 2025-10-25 23:33:21,723] Trial 17 finished with value: 0.09128774576174337 and parameters: {'n_layers': 2, 'n_units_l0': 20, 'n_units_l1': 50, 'lr': 0.007522500684467407, 'batch_size': 8, 'dropout_l0': 0.04210686970052627, 'dropout_l1': 0.023447095402742743, 'weight_decay': 0.00021855912573582478, 'optimizer': 'momentum', 'stopping_patience': 321, 'activation_l0': 'tanh', 'activation_l1': 'sigmoid'}. Best is trial 6 with value: 0.04842751628387452.\n"
     ]
    },
    {
     "name": "stdout",
     "output_type": "stream",
     "text": [
      "Epoch    1/1000 | Train Loss: 1.0667 | Val Loss: 0.8342\n",
      "Epoch  101/1000 | Train Loss: 0.1067 | Val Loss: 0.0657\n",
      "Epoch  201/1000 | Train Loss: 0.1031 | Val Loss: 0.0467\n",
      "Epoch  301/1000 | Train Loss: 0.0688 | Val Loss: 0.0343\n",
      "Epoch  401/1000 | Train Loss: 0.0836 | Val Loss: 0.0356\n",
      "Epoch  501/1000 | Train Loss: 0.0903 | Val Loss: 0.0443\n",
      "Epoch  601/1000 | Train Loss: 0.0918 | Val Loss: 0.0396\n",
      "Epoch  701/1000 | Train Loss: 0.0738 | Val Loss: 0.0302\n",
      "Epoch  801/1000 | Train Loss: 0.0597 | Val Loss: 0.0265\n",
      "Epoch  901/1000 | Train Loss: 0.0672 | Val Loss: 0.0284\n"
     ]
    },
    {
     "name": "stderr",
     "output_type": "stream",
     "text": [
      "[I 2025-10-25 23:33:23,327] Trial 18 finished with value: 0.017337688950080393 and parameters: {'n_layers': 3, 'n_units_l0': 30, 'n_units_l1': 55, 'n_units_l2': 112, 'lr': 0.026129900092584576, 'batch_size': 8, 'dropout_l0': 0.15805123407006877, 'dropout_l1': 0.499026389027496, 'dropout_l2': 0.25776700649006323, 'weight_decay': 0.0031408221572012556, 'optimizer': 'sgd', 'stopping_patience': 237, 'activation_l0': 'tanh', 'activation_l1': 'relu', 'activation_l2': 'relu'}. Best is trial 18 with value: 0.017337688950080393.\n"
     ]
    },
    {
     "name": "stdout",
     "output_type": "stream",
     "text": [
      "Early stopping triggered.\n",
      "Epoch    1/1000 | Train Loss: 1.3272 | Val Loss: 1.2166\n",
      "Epoch  101/1000 | Train Loss: 0.2438 | Val Loss: 0.3180\n",
      "Epoch  201/1000 | Train Loss: 0.1632 | Val Loss: 0.2450\n",
      "Epoch  301/1000 | Train Loss: 0.1207 | Val Loss: 0.2223\n",
      "Epoch  401/1000 | Train Loss: 0.0851 | Val Loss: 0.1996\n",
      "Epoch  501/1000 | Train Loss: 0.0983 | Val Loss: 0.1934\n",
      "Epoch  601/1000 | Train Loss: 0.0538 | Val Loss: 0.1792\n",
      "Epoch  701/1000 | Train Loss: 0.1068 | Val Loss: 0.1844\n",
      "Epoch  801/1000 | Train Loss: 0.0558 | Val Loss: 0.1715\n",
      "Epoch  901/1000 | Train Loss: 0.0764 | Val Loss: 0.1623\n"
     ]
    },
    {
     "name": "stderr",
     "output_type": "stream",
     "text": [
      "[I 2025-10-25 23:33:24,824] Trial 19 finished with value: 0.17196665101572542 and parameters: {'n_layers': 2, 'n_units_l0': 37, 'n_units_l1': 127, 'lr': 0.004885502978438331, 'batch_size': 8, 'dropout_l0': 0.1624511826398002, 'dropout_l1': 0.4977285631068534, 'weight_decay': 0.002225912346007973, 'optimizer': 'momentum', 'stopping_patience': 155, 'activation_l0': 'tanh', 'activation_l1': 'relu'}. Best is trial 18 with value: 0.017337688950080393.\n"
     ]
    },
    {
     "name": "stdout",
     "output_type": "stream",
     "text": [
      "Epoch    1/1000 | Train Loss: 1.1175 | Val Loss: 1.0053\n",
      "Epoch  101/1000 | Train Loss: 0.1761 | Val Loss: 0.0911\n",
      "Epoch  201/1000 | Train Loss: 0.1580 | Val Loss: 0.0633\n",
      "Epoch  301/1000 | Train Loss: 0.0557 | Val Loss: 0.0364\n",
      "Epoch  401/1000 | Train Loss: 0.0630 | Val Loss: 0.0348\n",
      "Epoch  501/1000 | Train Loss: 0.0340 | Val Loss: 0.0273\n",
      "Epoch  601/1000 | Train Loss: 0.0435 | Val Loss: 0.0271\n",
      "Epoch  701/1000 | Train Loss: 0.0324 | Val Loss: 0.0276\n",
      "Epoch  801/1000 | Train Loss: 0.0305 | Val Loss: 0.0174\n",
      "Epoch  901/1000 | Train Loss: 0.0503 | Val Loss: 0.0200\n"
     ]
    },
    {
     "name": "stderr",
     "output_type": "stream",
     "text": [
      "[I 2025-10-25 23:33:27,039] Trial 20 finished with value: 0.02659424319589889 and parameters: {'n_layers': 3, 'n_units_l0': 63, 'n_units_l1': 89, 'n_units_l2': 57, 'lr': 0.02526551718850021, 'batch_size': 8, 'dropout_l0': 0.3010448960736422, 'dropout_l1': 0.42079147161473013, 'dropout_l2': 0.2998118085077935, 'weight_decay': 0.00023691105983176367, 'optimizer': 'momentum', 'stopping_patience': 238, 'activation_l0': 'relu', 'activation_l1': 'relu', 'activation_l2': 'sigmoid'}. Best is trial 18 with value: 0.017337688950080393.\n"
     ]
    },
    {
     "name": "stdout",
     "output_type": "stream",
     "text": [
      "Epoch    1/1000 | Train Loss: 1.1071 | Val Loss: 1.0647\n",
      "Epoch  101/1000 | Train Loss: 0.1474 | Val Loss: 0.1044\n",
      "Epoch  201/1000 | Train Loss: 0.1225 | Val Loss: 0.0696\n",
      "Epoch  301/1000 | Train Loss: 0.0955 | Val Loss: 0.0490\n",
      "Epoch  401/1000 | Train Loss: 0.0621 | Val Loss: 0.0488\n",
      "Epoch  501/1000 | Train Loss: 0.0810 | Val Loss: 0.0372\n",
      "Epoch  601/1000 | Train Loss: 0.0441 | Val Loss: 0.0309\n"
     ]
    },
    {
     "name": "stderr",
     "output_type": "stream",
     "text": [
      "[I 2025-10-25 23:33:28,713] Trial 21 finished with value: 0.023341919962152492 and parameters: {'n_layers': 3, 'n_units_l0': 69, 'n_units_l1': 97, 'n_units_l2': 55, 'lr': 0.02832639112081792, 'batch_size': 8, 'dropout_l0': 0.29737174388181636, 'dropout_l1': 0.4169984204641556, 'dropout_l2': 0.3048241552048301, 'weight_decay': 0.00017154997299348172, 'optimizer': 'momentum', 'stopping_patience': 247, 'activation_l0': 'relu', 'activation_l1': 'relu', 'activation_l2': 'sigmoid'}. Best is trial 18 with value: 0.017337688950080393.\n"
     ]
    },
    {
     "name": "stdout",
     "output_type": "stream",
     "text": [
      "Epoch  701/1000 | Train Loss: 0.0488 | Val Loss: 0.0324\n",
      "Early stopping triggered.\n",
      "Epoch    1/1000 | Train Loss: 1.3130 | Val Loss: 1.1106\n",
      "Epoch  101/1000 | Train Loss: 0.2418 | Val Loss: 0.0886\n",
      "Epoch  201/1000 | Train Loss: 0.0968 | Val Loss: 0.0411\n",
      "Epoch  301/1000 | Train Loss: 0.1001 | Val Loss: 0.0384\n",
      "Epoch  401/1000 | Train Loss: 0.0928 | Val Loss: 0.0277\n",
      "Epoch  501/1000 | Train Loss: 0.0765 | Val Loss: 0.0294\n",
      "Epoch  601/1000 | Train Loss: 0.0590 | Val Loss: 0.0286\n",
      "Epoch  701/1000 | Train Loss: 0.0307 | Val Loss: 0.0185\n",
      "Epoch  801/1000 | Train Loss: 0.0452 | Val Loss: 0.0142\n",
      "Epoch  901/1000 | Train Loss: 0.0205 | Val Loss: 0.0172\n"
     ]
    },
    {
     "name": "stderr",
     "output_type": "stream",
     "text": [
      "[I 2025-10-25 23:33:30,838] Trial 22 finished with value: 0.023886254096415437 and parameters: {'n_layers': 3, 'n_units_l0': 69, 'n_units_l1': 86, 'n_units_l2': 60, 'lr': 0.027141071175002463, 'batch_size': 8, 'dropout_l0': 0.2933321158664899, 'dropout_l1': 0.4338574321035155, 'dropout_l2': 0.30422458027742905, 'weight_decay': 0.00019952834338635194, 'optimizer': 'momentum', 'stopping_patience': 239, 'activation_l0': 'relu', 'activation_l1': 'relu', 'activation_l2': 'sigmoid'}. Best is trial 18 with value: 0.017337688950080393.\n"
     ]
    },
    {
     "name": "stdout",
     "output_type": "stream",
     "text": [
      "Epoch    1/1000 | Train Loss: 1.1904 | Val Loss: 1.0810\n",
      "Epoch  101/1000 | Train Loss: 0.1948 | Val Loss: 0.1143\n",
      "Epoch  201/1000 | Train Loss: 0.0880 | Val Loss: 0.0450\n",
      "Epoch  301/1000 | Train Loss: 0.1425 | Val Loss: 0.0300\n",
      "Epoch  401/1000 | Train Loss: 0.0822 | Val Loss: 0.0283\n",
      "Epoch  501/1000 | Train Loss: 0.0649 | Val Loss: 0.0217\n",
      "Epoch  601/1000 | Train Loss: 0.0490 | Val Loss: 0.0159\n",
      "Epoch  701/1000 | Train Loss: 0.0457 | Val Loss: 0.0152\n",
      "Epoch  801/1000 | Train Loss: 0.0838 | Val Loss: 0.0111\n",
      "Epoch  901/1000 | Train Loss: 0.0268 | Val Loss: 0.0104\n"
     ]
    },
    {
     "name": "stderr",
     "output_type": "stream",
     "text": [
      "[I 2025-10-25 23:33:33,079] Trial 23 finished with value: 0.013524682356693874 and parameters: {'n_layers': 3, 'n_units_l0': 75, 'n_units_l1': 59, 'n_units_l2': 95, 'lr': 0.021672574817019934, 'batch_size': 8, 'dropout_l0': 0.2395219381589836, 'dropout_l1': 0.43188923340156543, 'dropout_l2': 0.3822926345597569, 'weight_decay': 0.0002204204000948876, 'optimizer': 'momentum', 'stopping_patience': 121, 'activation_l0': 'relu', 'activation_l1': 'relu', 'activation_l2': 'sigmoid'}. Best is trial 23 with value: 0.013524682356693874.\n"
     ]
    },
    {
     "name": "stdout",
     "output_type": "stream",
     "text": [
      "Epoch    1/1000 | Train Loss: 1.1816 | Val Loss: 1.0595\n",
      "Epoch  101/1000 | Train Loss: 0.2499 | Val Loss: 0.1756\n",
      "Epoch  201/1000 | Train Loss: 0.1214 | Val Loss: 0.0764\n",
      "Epoch  301/1000 | Train Loss: 0.1082 | Val Loss: 0.0539\n"
     ]
    },
    {
     "name": "stderr",
     "output_type": "stream",
     "text": [
      "[I 2025-10-25 23:33:34,256] Trial 24 finished with value: 0.036906992770515616 and parameters: {'n_layers': 3, 'n_units_l0': 73, 'n_units_l1': 57, 'n_units_l2': 98, 'lr': 0.015678703841895056, 'batch_size': 8, 'dropout_l0': 0.15638810526034685, 'dropout_l1': 0.4270212484506206, 'dropout_l2': 0.4142444593306671, 'weight_decay': 0.00038122659952673026, 'optimizer': 'momentum', 'stopping_patience': 121, 'activation_l0': 'relu', 'activation_l1': 'relu', 'activation_l2': 'sigmoid'}. Best is trial 23 with value: 0.013524682356693874.\n"
     ]
    },
    {
     "name": "stdout",
     "output_type": "stream",
     "text": [
      "Epoch  401/1000 | Train Loss: 0.0794 | Val Loss: 0.0448\n",
      "Early stopping triggered.\n",
      "Epoch    1/1000 | Train Loss: 1.0754 | Val Loss: 0.7157\n",
      "Epoch  101/1000 | Train Loss: 0.0776 | Val Loss: 0.1268\n",
      "Epoch  201/1000 | Train Loss: 0.0512 | Val Loss: 0.1251\n",
      "Epoch  301/1000 | Train Loss: 0.0376 | Val Loss: 0.0957\n",
      "Epoch  401/1000 | Train Loss: 0.1016 | Val Loss: 0.0219\n",
      "Epoch  501/1000 | Train Loss: 0.0359 | Val Loss: 0.0297\n"
     ]
    },
    {
     "name": "stderr",
     "output_type": "stream",
     "text": [
      "[I 2025-10-25 23:33:35,219] Trial 25 finished with value: 0.01132955380443001 and parameters: {'n_layers': 2, 'n_units_l0': 52, 'n_units_l1': 58, 'lr': 0.040241812498449325, 'batch_size': 8, 'dropout_l0': 0.2375860985027711, 'dropout_l1': 0.30959928527576625, 'weight_decay': 0.00011775430478344215, 'optimizer': 'momentum', 'stopping_patience': 141, 'activation_l0': 'relu', 'activation_l1': 'relu'}. Best is trial 25 with value: 0.01132955380443001.\n"
     ]
    },
    {
     "name": "stdout",
     "output_type": "stream",
     "text": [
      "Epoch  601/1000 | Train Loss: 0.0220 | Val Loss: 0.0280\n",
      "Early stopping triggered.\n",
      "Epoch    1/1000 | Train Loss: 0.8920 | Val Loss: 0.5790\n",
      "Epoch  101/1000 | Train Loss: 0.0926 | Val Loss: 0.1317\n",
      "Epoch  201/1000 | Train Loss: 0.0765 | Val Loss: 0.0803\n",
      "Epoch  301/1000 | Train Loss: 0.0348 | Val Loss: 0.0490\n",
      "Epoch  401/1000 | Train Loss: 0.0479 | Val Loss: 0.0429\n"
     ]
    },
    {
     "name": "stderr",
     "output_type": "stream",
     "text": [
      "[I 2025-10-25 23:33:35,930] Trial 26 finished with value: 0.01860569771923478 and parameters: {'n_layers': 2, 'n_units_l0': 53, 'n_units_l1': 59, 'lr': 0.048550386512943224, 'batch_size': 8, 'dropout_l0': 0.2382630230530695, 'dropout_l1': 0.294344098521903, 'weight_decay': 0.001282129917067116, 'optimizer': 'sgd', 'stopping_patience': 133, 'activation_l0': 'relu', 'activation_l1': 'relu'}. Best is trial 25 with value: 0.01132955380443001.\n"
     ]
    },
    {
     "name": "stdout",
     "output_type": "stream",
     "text": [
      "Epoch  501/1000 | Train Loss: 0.0546 | Val Loss: 0.0490\n",
      "Early stopping triggered.\n",
      "Epoch    1/1000 | Train Loss: 1.2705 | Val Loss: 1.0296\n",
      "Epoch  101/1000 | Train Loss: 0.0746 | Val Loss: 0.1854\n",
      "Epoch  201/1000 | Train Loss: 0.0876 | Val Loss: 0.1447\n"
     ]
    },
    {
     "name": "stderr",
     "output_type": "stream",
     "text": [
      "[I 2025-10-25 23:33:36,112] Trial 27 finished with value: 0.11935519493464784 and parameters: {'n_layers': 2, 'n_units_l0': 101, 'n_units_l1': 35, 'lr': 0.06175708700694599, 'batch_size': 32, 'dropout_l0': 0.1523858688813893, 'dropout_l1': 0.3103005042811366, 'weight_decay': 2.571112650627635e-05, 'optimizer': 'momentum', 'stopping_patience': 51, 'activation_l0': 'relu', 'activation_l1': 'relu'}. Best is trial 25 with value: 0.01132955380443001.\n"
     ]
    },
    {
     "name": "stdout",
     "output_type": "stream",
     "text": [
      "Early stopping triggered.\n",
      "Epoch    1/1000 | Train Loss: 1.3131 | Val Loss: 0.9895\n",
      "Epoch  101/1000 | Train Loss: 0.2547 | Val Loss: 0.2346\n",
      "Epoch  201/1000 | Train Loss: 0.1700 | Val Loss: 0.1981\n",
      "Epoch  301/1000 | Train Loss: 0.1154 | Val Loss: 0.1816\n"
     ]
    },
    {
     "name": "stderr",
     "output_type": "stream",
     "text": [
      "[I 2025-10-25 23:33:36,653] Trial 28 finished with value: 0.14437511906874798 and parameters: {'n_layers': 2, 'n_units_l0': 33, 'n_units_l1': 61, 'lr': 0.016276308633749667, 'batch_size': 16, 'dropout_l0': 0.24120903963750795, 'dropout_l1': 0.4691665507402243, 'weight_decay': 0.00011871271376116145, 'optimizer': 'sgd', 'stopping_patience': 164, 'activation_l0': 'relu', 'activation_l1': 'relu'}. Best is trial 25 with value: 0.01132955380443001.\n"
     ]
    },
    {
     "name": "stdout",
     "output_type": "stream",
     "text": [
      "Epoch  401/1000 | Train Loss: 0.1557 | Val Loss: 0.1571\n",
      "Epoch  501/1000 | Train Loss: 0.1392 | Val Loss: 0.1677\n",
      "Early stopping triggered.\n",
      "Epoch    1/1000 | Train Loss: 1.0556 | Val Loss: 0.8820\n",
      "Epoch  101/1000 | Train Loss: 0.1683 | Val Loss: 0.2486\n",
      "Epoch  201/1000 | Train Loss: 0.1013 | Val Loss: 0.1895\n",
      "Epoch  301/1000 | Train Loss: 0.0972 | Val Loss: 0.1746\n"
     ]
    },
    {
     "name": "stderr",
     "output_type": "stream",
     "text": [
      "[I 2025-10-25 23:33:36,838] Trial 29 finished with value: 0.149102847273756 and parameters: {'n_layers': 1, 'n_units_l0': 44, 'lr': 0.0369171919181557, 'batch_size': 32, 'dropout_l0': 0.22068576755110658, 'weight_decay': 1.2540206464724856e-05, 'optimizer': 'sgd', 'stopping_patience': 105, 'activation_l0': 'relu'}. Best is trial 25 with value: 0.01132955380443001.\n"
     ]
    },
    {
     "name": "stdout",
     "output_type": "stream",
     "text": [
      "Epoch  401/1000 | Train Loss: 0.0689 | Val Loss: 0.1655\n",
      "Epoch  501/1000 | Train Loss: 0.1370 | Val Loss: 0.1614\n",
      "Early stopping triggered.\n",
      "Best trial:\n",
      "  Value: 0.0113\n",
      "  Params:\n",
      "    n_layers: 2\n",
      "    n_units_l0: 52\n",
      "    n_units_l1: 58\n",
      "    lr: 0.040241812498449325\n",
      "    batch_size: 8\n",
      "    dropout_l0: 0.2375860985027711\n",
      "    dropout_l1: 0.30959928527576625\n",
      "    weight_decay: 0.00011775430478344215\n",
      "    optimizer: momentum\n",
      "    stopping_patience: 141\n",
      "    activation_l0: relu\n",
      "    activation_l1: relu\n",
      "Epoch    1/5000 | Train Loss: 1.0754 | Val Loss: 0.7157\n",
      "Epoch  101/5000 | Train Loss: 0.0776 | Val Loss: 0.1268\n",
      "Epoch  201/5000 | Train Loss: 0.0512 | Val Loss: 0.1251\n",
      "Epoch  301/5000 | Train Loss: 0.0376 | Val Loss: 0.0957\n",
      "Epoch  401/5000 | Train Loss: 0.1016 | Val Loss: 0.0219\n",
      "Epoch  501/5000 | Train Loss: 0.0359 | Val Loss: 0.0297\n",
      "Epoch  601/5000 | Train Loss: 0.0220 | Val Loss: 0.0280\n",
      "Early stopping triggered.\n"
     ]
    },
    {
     "data": {
      "image/png": "[encoded data removed]",
      "text/plain": [
       "<Figure size 600x400 with 1 Axes>"
      ]
     },
     "metadata": {},
     "output_type": "display_data"
    },
    {
     "name": "stdout",
     "output_type": "stream",
     "text": [
      "Test Accuracy: 95.65%\n"
     ]
    }
   ],
   "source": [
    "# ===============================\n",
    "# Deep Neural Network from Scratch improved\n",
    "# Dataset: Iris (Multiclass Classification)\n",
    "# ===============================\n",
    "\n",
    "import numpy as np\n",
    "import matplotlib.pyplot as plt\n",
    "from sklearn import datasets\n",
    "from sklearn.model_selection import train_test_split\n",
    "from sklearn.preprocessing import OneHotEncoder, RobustScaler\n",
    "from functools import partial\n",
    "import optuna\n",
    "\n",
    "\n",
    "# =======================================\n",
    "# 1. Load and Preprocess Data\n",
    "# =======================================\n",
    "iris = datasets.load_iris()\n",
    "X = iris.data\n",
    "y = iris.target.reshape(-1, 1)\n",
    "\n",
    "# Normalize features for better convergence\n",
    "scaler = RobustScaler()\n",
    "X = scaler.fit_transform(X)\n",
    "\n",
    "# One-hot encode labels\n",
    "encoder = OneHotEncoder(sparse_output=False)\n",
    "y = encoder.fit_transform(y)\n",
    "\n",
    "def train_val_test_split(X, y, train_size=0.7, val_size=0.15, test_size=0.15, random_state=42):\n",
    "    assert abs(train_size + val_size + test_size - 1.0) < 1e-6, \"Sizes must sum to 1\"\n",
    "\n",
    "    # First split: train vs temp (val+test)\n",
    "    X_train, X_temp, y_train, y_temp = train_test_split(X, y, test_size=(1 - train_size), random_state=random_state, stratify=y)\n",
    "\n",
    "    # Compute proportion of validation relative to temp\n",
    "    val_prop = val_size / (val_size + test_size)\n",
    "    X_val, X_test, y_val, y_test = train_test_split(X_temp, y_temp, test_size=(1 - val_prop), random_state=random_state, stratify=y_temp)\n",
    "\n",
    "    return X_train, X_val, X_test, y_train, y_val, y_test\n",
    "\n",
    "# Usage:\n",
    "X_train, X_val, X_test, y_train, y_val, y_test = train_val_test_split(X, y)\n",
    "print(X_train.shape, X_val.shape, X_test.shape)\n",
    "\n",
    "\n",
    "# =======================================\n",
    "# 2. Activations\n",
    "# =======================================\n",
    "def sigmoid(x, is_derivative=False):\n",
    "    if is_derivative:\n",
    "        s = 1.0 / (1.0 + np.exp(-x))\n",
    "        return s * (1.0 - s)\n",
    "    return 1.0 / (1.0 + np.exp(-x))\n",
    "\n",
    "def tanh(x, is_derivative=False):\n",
    "    t = np.tanh(x)\n",
    "    if is_derivative:\n",
    "        return 1.0 - t * t\n",
    "    return t\n",
    "\n",
    "def relu(x, is_derivative=False):\n",
    "    if is_derivative:\n",
    "        return (x > 0).astype(float)\n",
    "    return np.maximum(0, x)\n",
    "\n",
    "def leaky_relu(x, is_derivative=False, alpha=0.01):\n",
    "    if is_derivative:\n",
    "        # return 1 where x>0, alpha otherwise\n",
    "        grad = np.ones_like(x)\n",
    "        grad[x < 0] = alpha\n",
    "        return grad\n",
    "    return np.where(x > 0, x, alpha * x)\n",
    "\n",
    "def softmax(x):\n",
    "    exp_shifted = np.exp(x - np.max(x, axis=0, keepdims=True))\n",
    "    return exp_shifted / np.sum(exp_shifted, axis=0, keepdims=True)\n",
    "\n",
    "\n",
    "# =======================================\n",
    "# 3. Loss Functions\n",
    "# =======================================\n",
    "def mse_loss(Y, Y_pred):\n",
    "    diff = Y - Y_pred.T\n",
    "    return 0.5 * np.mean(diff * diff)\n",
    "\n",
    "def cross_entropy_loss(Y, Y_pred, eps=1e-9):\n",
    "    Y_pred = np.clip(Y_pred.T, eps, 1 - eps)\n",
    "    return -np.mean(np.sum(Y * np.log(Y_pred), axis=1))\n",
    "\n",
    "\n",
    "# =======================================\n",
    "# 4. Initialization\n",
    "# =======================================\n",
    "def initialize_parameters(layer_dims, activations):\n",
    "    np.random.seed(42)\n",
    "    sqrt = np.sqrt\n",
    "    standard_normal = np.random.standard_normal\n",
    "\n",
    "    weights = []\n",
    "    biases = []\n",
    "\n",
    "    for i in range(1, len(layer_dims)):\n",
    "        fan_in = layer_dims[i - 1]\n",
    "        fan_out = layer_dims[i]\n",
    "\n",
    "        act = activations[i - 1]\n",
    "        scale = sqrt(2.0 / fan_in) if act in (\"relu\", \"leaky_relu\") else sqrt(1.0 / fan_in)\n",
    "\n",
    "        # allocate directly\n",
    "        W = standard_normal((fan_out, fan_in)).astype(np.float32) * scale\n",
    "        b = np.zeros((fan_out, 1), dtype=np.float32)\n",
    "\n",
    "        weights.append(W)\n",
    "        biases.append(b)\n",
    "\n",
    "    return weights, biases\n",
    "\n",
    "\n",
    "# =======================================\n",
    "# 5. Forward\n",
    "# =======================================\n",
    "def forward_propagation(X, weights, biases, activations, dropout_rates=None, training=True):\n",
    "    A = X.T\n",
    "    cache = [A]  # store activations for backprop\n",
    "    Zs = []      # store pre-activations (Z values)\n",
    "    masks = []   # store dropout masks\n",
    "\n",
    "    # Activation function map for direct access\n",
    "    act_funcs = {\n",
    "        \"sigmoid\": sigmoid,\n",
    "        \"relu\": relu,\n",
    "        \"tanh\": tanh,\n",
    "        \"leaky_relu\": leaky_relu,\n",
    "        \"softmax\": softmax\n",
    "    }\n",
    "\n",
    "    for i, (W, b, act_name) in enumerate(zip(weights, biases, activations)):\n",
    "        Z = W @ A + b\n",
    "        Zs.append(Z)\n",
    "\n",
    "        A = act_funcs[act_name](Z)\n",
    "\n",
    "        # Dropout (training only, not for output layer)\n",
    "        if training and dropout_rates and i < len(dropout_rates):\n",
    "            rate = dropout_rates[i]\n",
    "            mask = (np.random.rand(*A.shape) > rate).astype(float)\n",
    "            A *= mask\n",
    "            A /= (1 - rate)\n",
    "            masks.append(mask)\n",
    "        else:\n",
    "            masks.append(None)\n",
    "\n",
    "        cache.append(A)\n",
    "\n",
    "    return A, (cache, Zs, masks)\n",
    "\n",
    "\n",
    "# =======================================\n",
    "# 6. Backpropagation\n",
    "# =======================================\n",
    "def backward_propagation(Y, weights, cache_data, activations, dropout_rates=None, weight_decay=0.0):\n",
    "    cache, Zs, masks = cache_data\n",
    "    m = Y.shape[0]\n",
    "    L = len(weights)\n",
    "\n",
    "    dWs = [None] * L\n",
    "    dbs = [None] * L\n",
    "\n",
    "    Y = Y.T\n",
    "    dZ = cache[-1] - Y  # derivative of softmax-crossentropy\n",
    "\n",
    "    # Activation derivative map\n",
    "    act_derivs = {\n",
    "        \"sigmoid\": lambda Z: sigmoid(Z, True),\n",
    "        \"relu\": lambda Z: relu(Z, True),\n",
    "        \"tanh\": lambda Z: tanh(Z, True),\n",
    "        \"leaky_relu\": lambda Z: leaky_relu(Z, True)\n",
    "    }\n",
    "\n",
    "    for i in reversed(range(L)):\n",
    "        A_prev = cache[i]\n",
    "        W = weights[i]\n",
    "\n",
    "        # Gradients\n",
    "        dWs[i] = (dZ @ A_prev.T) / m + weight_decay * W\n",
    "        dbs[i] = np.sum(dZ, axis=1, keepdims=True) / m\n",
    "\n",
    "        # Gradient clipping (optional, can disable for extra speed)\n",
    "        # dWs[i] = np.clip(dWs[i], -5, 5)\n",
    "        # dbs[i] = np.clip(dbs[i], -5, 5)\n",
    "\n",
    "        if i > 0:\n",
    "            dA_prev = W.T @ dZ\n",
    "\n",
    "            # Apply dropout if used\n",
    "            if masks[i - 1] is not None:\n",
    "                dA_prev *= masks[i - 1]\n",
    "                dA_prev /= (1 - dropout_rates[i - 1])\n",
    "\n",
    "            # Apply activation derivative\n",
    "            dZ = dA_prev * act_derivs[activations[i - 1]](Zs[i - 1])\n",
    "\n",
    "    return dWs, dbs\n",
    "\n",
    "\n",
    "# =======================================\n",
    "# 7. Optimizers\n",
    "# =======================================\n",
    "'''\n",
    "    Stochatic Gradient Descent (SGD):\n",
    "    θ^(t+1) <- θ^t - η∇L(y, ŷ)\n",
    "\n",
    "    Momentum:\n",
    "    v^(t+1) <- βv^t + (1-β)∇L(y, ŷ)^t\n",
    "    θ^(t+1) <- θ^t - ηv^(t+1)\n",
    "\n",
    "    Adam:\n",
    "    m^(t+1) <- β1 m^t + (1-β1)∇L(y, ŷ)^t\n",
    "    v^(t+1) <- β2 v^t + (1-β2)(∇L(y, ŷ)^t)^2\n",
    "    m̂^(t+1) <- m^(t+1) / (1 - β1^(t+1))\n",
    "    v̂^(t+1) <- v^(t+1) / (1 - β2^(t+1))\n",
    "    θ^(t+1) <- θ^t - η m̂^(t+1) / (√(v̂^(t+1)) + ε)\n",
    "'''\n",
    "def update_parameters(weights, biases, dWs, dbs, lr, optimizer_type, velocity=None, beta=0.9, m=None, v=None, t=1, beta1=0.9, beta2=0.999, eps=1e-8):\n",
    "    L = len(weights)\n",
    "\n",
    "    if optimizer_type == \"sgd\":\n",
    "        for i in range(L):\n",
    "            weights[i] -= lr * dWs[i]\n",
    "            biases[i] -= lr * dbs[i]\n",
    "\n",
    "    elif optimizer_type == \"momentum\":\n",
    "        if velocity is None:\n",
    "            velocity = {\"W\": [np.zeros_like(W) for W in weights], \"b\": [np.zeros_like(b) for b in biases]}\n",
    "        for i in range(L):\n",
    "            velocity[\"W\"][i] = beta * velocity[\"W\"][i] + (1 - beta) * dWs[i]\n",
    "            velocity[\"b\"][i] = beta * velocity[\"b\"][i] + (1 - beta) * dbs[i]\n",
    "            weights[i] -= lr * velocity[\"W\"][i]\n",
    "            biases[i] -= lr * velocity[\"b\"][i]\n",
    "\n",
    "    elif optimizer_type == \"adam\":\n",
    "        if m is None:\n",
    "            m = {\"W\": [np.zeros_like(W) for W in weights], \"b\": [np.zeros_like(b) for b in biases]}\n",
    "            v = {\"W\": [np.zeros_like(W) for W in weights], \"b\": [np.zeros_like(b) for b in biases]}\n",
    "\n",
    "        for i in range(L):\n",
    "            # Update moment estimates\n",
    "            m[\"W\"][i] = beta1 * m[\"W\"][i] + (1 - beta1) * dWs[i]\n",
    "            m[\"b\"][i] = beta1 * m[\"b\"][i] + (1 - beta1) * dbs[i]\n",
    "            v[\"W\"][i] = beta2 * v[\"W\"][i] + (1 - beta2) * (dWs[i] ** 2)\n",
    "            v[\"b\"][i] = beta2 * v[\"b\"][i] + (1 - beta2) * (dbs[i] ** 2)\n",
    "\n",
    "            # Bias correction\n",
    "            m_hat_W = m[\"W\"][i] / (1 - beta1 ** t)\n",
    "            m_hat_b = m[\"b\"][i] / (1 - beta1 ** t)\n",
    "            v_hat_W = v[\"W\"][i] / (1 - beta2 ** t)\n",
    "            v_hat_b = v[\"b\"][i] / (1 - beta2 ** t)\n",
    "\n",
    "            # Parameter update\n",
    "            weights[i] -= lr * m_hat_W / (np.sqrt(v_hat_W) + eps)\n",
    "            biases[i] -= lr * m_hat_b / (np.sqrt(v_hat_b) + eps)\n",
    "\n",
    "    return weights, biases, velocity, (m, v)\n",
    "\n",
    "\n",
    "# =======================================\n",
    "# 8. Training Loop\n",
    "# =======================================\n",
    "def train_neural_network(\n",
    "    X_train, \n",
    "    Y_train,\n",
    "    X_val, \n",
    "    Y_val,\n",
    "    hidden_layers=[10], \n",
    "    lr=0.01, \n",
    "    epochs=500,\n",
    "    batch_size=16,\n",
    "    activations=None, \n",
    "    loss_function=\"cross_entropy\",\n",
    "    optimizer_type=\"momentum\",\n",
    "    dropout_rates=[0.1],\n",
    "    weight_decay=1e-4, \n",
    "    early_stopping=True, \n",
    "    patience=100,\n",
    "    print_every=100,\n",
    "    plot_loss=True,\n",
    "):\n",
    "    input_dim, output_dim = X_train.shape[1], Y_train.shape[1]\n",
    "    layer_dims = [input_dim] + hidden_layers + [output_dim]\n",
    "    if activations is None:\n",
    "        activations = [\"relu\"] * len(hidden_layers) + [\"softmax\"]\n",
    "\n",
    "    # Initialization\n",
    "    weights, biases = initialize_parameters(layer_dims, activations)\n",
    "    velocity, (m, v) = None, (None, None)\n",
    "    best_loss, patience_counter = np.inf, 0\n",
    "    train_losses, val_losses = [], []\n",
    "\n",
    "    # Mini-batch iterator\n",
    "    def batch_iterator(X, Y, batch_size):\n",
    "        for i in range(0, X.shape[0], batch_size):\n",
    "            yield X[i:i+batch_size], Y[i:i+batch_size]\n",
    "\n",
    "    for epoch in range(epochs):\n",
    "        # Shuffle\n",
    "        perm = np.random.permutation(X_train.shape[0])\n",
    "        X_shuffled, Y_shuffled = X_train[perm], Y_train[perm]\n",
    "\n",
    "        # Training by batch\n",
    "        epoch_loss = 0.0\n",
    "        num_batches = 0\n",
    "        for X_batch, Y_batch in batch_iterator(X_shuffled, Y_shuffled, batch_size):\n",
    "            # Forward\n",
    "            A_out, cache_data = forward_propagation(X_batch, weights, biases, activations, dropout_rates)\n",
    "\n",
    "            # Compute loss\n",
    "            if loss_function == \"cross_entropy\":\n",
    "                loss = cross_entropy_loss(Y_batch, A_out)\n",
    "            else:\n",
    "                loss = mse_loss(Y_batch, A_out)\n",
    "            epoch_loss += loss\n",
    "            num_batches += 1\n",
    "\n",
    "            # Backward\n",
    "            dWs, dbs = backward_propagation(Y_batch, weights, cache_data, activations, dropout_rates, weight_decay)\n",
    "\n",
    "            # Update params\n",
    "            weights, biases, velocity, (m, v) = update_parameters(weights, biases, dWs, dbs, lr, optimizer_type, velocity=velocity, m=m, v=v, t=epoch+1)\n",
    "\n",
    "        # Validation loss\n",
    "        A_val, _ = forward_propagation(X_val, weights, biases, activations)\n",
    "        val_loss = cross_entropy_loss(Y_val, A_val) if loss_function == \"cross_entropy\" else mse_loss(Y_val, A_val)\n",
    "\n",
    "        avg_loss = epoch_loss / num_batches\n",
    "        train_losses.append(avg_loss)\n",
    "        val_losses.append(val_loss)\n",
    "\n",
    "        # Print progress\n",
    "        if epoch % print_every == 0:\n",
    "            print(f\"Epoch {epoch+1:4d}/{epochs} | Train Loss: {avg_loss:.4f} | Val Loss: {val_loss:.4f}\")\n",
    "\n",
    "        # Early stopping\n",
    "        if early_stopping:\n",
    "            if val_loss < best_loss:\n",
    "                best_loss = val_loss\n",
    "                best_weights = [W.copy() for W in weights]\n",
    "                best_biases = [b.copy() for b in biases]\n",
    "                patience_counter = 0\n",
    "            else:\n",
    "                patience_counter += 1\n",
    "                if patience_counter >= patience:\n",
    "                    print(\"Early stopping triggered.\")\n",
    "                    weights, biases = best_weights, best_biases\n",
    "                    break\n",
    "\n",
    "    if plot_loss:\n",
    "        plt.figure(figsize=(6,4))\n",
    "        plt.plot(train_losses, label=\"Train\")\n",
    "        plt.plot(val_losses, label=\"Val\")\n",
    "        plt.legend()\n",
    "        plt.title(\"Loss over Epochs\")\n",
    "        plt.xlabel(\"Epoch\")\n",
    "        plt.ylabel(\"Loss\")\n",
    "        plt.show()\n",
    "\n",
    "    return weights, biases\n",
    "\n",
    "\n",
    "# =======================================\n",
    "# 9. Prediction & Evaluation\n",
    "# =======================================\n",
    "def predict(X, weights, biases, activations):\n",
    "    A_out, _ = forward_propagation(X, weights, biases, activations, training=False)\n",
    "    return np.argmax(A_out, axis=0)\n",
    "\n",
    "def accuracy_score(y_true, y_pred):\n",
    "    return np.mean(y_true == y_pred) * 100\n",
    "\n",
    "\n",
    "# =======================================\n",
    "# 10. Hyperparameter Optimization with Optuna\n",
    "# =======================================\n",
    "def objective(trial, loss_function=\"cross_entropy\", epochs=1000):\n",
    "    # Hyperparameters to search\n",
    "    n_layers = trial.suggest_int(\"n_layers\", 1, 3)\n",
    "    hidden_layers = [trial.suggest_int(f\"n_units_l{i}\", 5, 128) for i in range(n_layers)]\n",
    "    lr = trial.suggest_float(\"lr\", 1e-4, 0.1, log=True)\n",
    "    batch_size = trial.suggest_categorical(\"batch_size\", [8, 16, 32, 64])\n",
    "    dropout_rates = [trial.suggest_float(f\"dropout_l{i}\", 0.0, 0.5) for i in range(n_layers)]\n",
    "    weight_decay = trial.suggest_float(\"weight_decay\", 1e-6, 1e-2, log=True)\n",
    "    optimizer_type = trial.suggest_categorical(\"optimizer\", [\"sgd\", \"momentum\"])\n",
    "    stopping_patience = trial.suggest_int(\"stopping_patience\", 50, 500)\n",
    "    # Activation functions per layer\n",
    "    possible_activations = [\"relu\", \"sigmoid\", \"tanh\", \"leaky_relu\"]\n",
    "    activations = [trial.suggest_categorical(f\"activation_l{i}\", possible_activations) for i in range(n_layers)]\n",
    "    activations.append(\"softmax\")  # output layer always softmax\n",
    "\n",
    "    # Train network\n",
    "    weights, biases = train_neural_network(\n",
    "        X_train, \n",
    "        y_train,\n",
    "        X_val, \n",
    "        y_val,\n",
    "        hidden_layers=hidden_layers,\n",
    "        lr=lr,\n",
    "        epochs=epochs,\n",
    "        batch_size=batch_size,\n",
    "        activations=activations,\n",
    "        loss_function=loss_function,\n",
    "        optimizer_type=optimizer_type,\n",
    "        dropout_rates=dropout_rates,\n",
    "        weight_decay=weight_decay,\n",
    "        early_stopping=True,\n",
    "        patience=stopping_patience,\n",
    "        print_every=100, \n",
    "        plot_loss=False,\n",
    "    )\n",
    "\n",
    "    # Optuna tries to minimize the loss function\n",
    "    A_val, _ = forward_propagation(X_val, weights, biases, activations, training=False)\n",
    "    val_loss = cross_entropy_loss(y_val, A_val) if loss_function == \"cross_entropy\" else mse_loss(y_val, A_val)\n",
    "    return val_loss\n",
    "\n",
    "# Run Optuna study\n",
    "loss_function = \"cross_entropy\"\n",
    "epochs = 1000\n",
    "obj = partial(objective, loss_function=loss_function, epochs=epochs)\n",
    "study = optuna.create_study(direction=\"minimize\", pruner=optuna.pruners.MedianPruner())\n",
    "study.optimize(obj, n_trials=30)\n",
    "print(\"Best trial:\")\n",
    "trial = study.best_trial\n",
    "print(f\"  Value: {trial.value:.4f}\")\n",
    "print(\"  Params:\")\n",
    "for key, value in trial.params.items():\n",
    "    print(f\"    {key}: {value}\")\n",
    "\n",
    "# =======================================\n",
    "# 11. Retrain Best Model on Train + Val and Evaluate on Test\n",
    "# =======================================\n",
    "\n",
    "best_params = trial.params\n",
    "n_layers = best_params[\"n_layers\"]\n",
    "hidden_layers = [best_params[f\"n_units_l{i}\"] for i in range(n_layers)]\n",
    "lr = best_params[\"lr\"]\n",
    "batch_size = best_params[\"batch_size\"]\n",
    "dropout_rates = [best_params[f\"dropout_l{i}\"] for i in range(n_layers)]\n",
    "weight_decay = best_params[\"weight_decay\"]\n",
    "optimizer_type = best_params[\"optimizer\"]\n",
    "stopping_patience = best_params[\"stopping_patience\"]\n",
    "activations = [best_params[f\"activation_l{i}\"] for i in range(n_layers)]\n",
    "activations.append(\"softmax\")  # output layer always softmax\n",
    "\n",
    "# Combine train and val sets\n",
    "weights, biases = train_neural_network(\n",
    "    X_train, \n",
    "    y_train,\n",
    "    X_val, \n",
    "    y_val,\n",
    "    hidden_layers=hidden_layers,\n",
    "    lr=lr,\n",
    "    epochs=5000,\n",
    "    batch_size=batch_size,\n",
    "    activations=activations,\n",
    "    loss_function=loss_function,\n",
    "    optimizer_type=optimizer_type,\n",
    "    dropout_rates=dropout_rates,\n",
    "    weight_decay=weight_decay,\n",
    "    early_stopping=True,\n",
    "    patience=stopping_patience,\n",
    "    print_every=100,\n",
    "    plot_loss=True\n",
    ")\n",
    "\n",
    "# Evaluate on test set\n",
    "y_test_pred = predict(X_test, weights, biases, activations)\n",
    "y_test_true = np.argmax(y_test, axis=1)\n",
    "test_accuracy = accuracy_score(y_test_true, y_test_pred)\n",
    "print(f\"Test Accuracy: {test_accuracy:.2f}%\")"
   ]
  }
 ],
 "metadata": {
  "kernelspec": {
   "display_name": "global_env",
   "language": "python",
   "name": "python3"
  },
  "language_info": {
   "codemirror_mode": {
    "name": "ipython",
    "version": 3
   },
   "file_extension": ".py",
   "mimetype": "text/x-python",
   "name": "python",
   "nbconvert_exporter": "python",
   "pygments_lexer": "ipython3",
   "version": "3.13.2"
  }
 },
 "nbformat": 4,
 "nbformat_minor": 5
}
